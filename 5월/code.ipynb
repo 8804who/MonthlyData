{
 "cells": [
  {
   "cell_type": "code",
   "execution_count": 38,
   "id": "0c1b5779",
   "metadata": {},
   "outputs": [],
   "source": [
    "import pandas as pd\n",
    "import matplotlib.pyplot as plt\n",
    "import seaborn as sns\n",
    "\n",
    "plt.rc('font', family='NanumGothicCoding')\n",
    "sns.set(font='NanumGothicCoding')"
   ]
  },
  {
   "cell_type": "code",
   "execution_count": 39,
   "id": "9dd43995",
   "metadata": {},
   "outputs": [],
   "source": [
    "bands = set(['10cm','나상현씨밴드','넬','너드커넥션','데이식스','루시','소란','식구','씨엔블루','쏜애플','실리카겔','앰퍼샌드원','원위','유다빈밴드','엔플라잉','잔나비','체리필터','트랜스픽션','페퍼톤스','한로로','FT아일랜드','QWER','wave to earth','YB'])\n",
    "rappers = set(['기리보이','김하온','김승민','다이나믹듀오','래원','로꼬','리듬파워','릴보이','미란이','박재범','비오','비와이','블랙나인','빈지노','신스','슈퍼비','원슈타인','우원재','언에듀케이드키드','우디고차일드','에픽하이','이영지','지코','재쓰비','저스디스','제시','창모','쿠기','키코','한요한','호미들','행주','우원재','ph-1','SZN','SC4F & MADII','그레이','양홍원','원슈타인'])\n",
    "idols = set(['NCT DREAM','NCT WISH','TNX','라잇썸','비비지','산다라박','세이마이네임','스테이씨','아이들','아이브','아일릿','에스파','에이핑크','엔믹스','ITZY','웬디','유니스','이창섭','이채연','최예나','트리플에스','키스오브라이프','캐치더영','츄','권은비','하이라이트','프로미스나인','르세라핌','청하','시그니처','WOO!AH!','조유리','소미','위너','현아'])"
   ]
  },
  {
   "cell_type": "code",
   "execution_count": 40,
   "id": "702cd927",
   "metadata": {},
   "outputs": [],
   "source": [
    "list_2022 = 'ITZY,윤하,박혜원,지코,DVWN,에일리,10cm,ITZY,10cm,재만,픽보이,규현,타이거JK&윤미래&비지,준케이,잔나비,다이나믹듀오,윤하,폴킴,경서,정유진,저스디스,CL,김범수,ITZY,지코,거미,DVWM,콜드,안병웅,카키,10cm ,볼빨간 사춘기,이하이,아이브,사이먼 도미닉,그레이,쿠기,지코,DVWN,빅나티,민경훈,펀치,아이브,프로미스나인,오다온,황민현,비비,리듬파워,최현우,울랄라세션,펀치,로꼬,10cm,다비치,멜로망스,윤하,지코,DVWN,다이나믹듀오,MFBTY,볼빨간 사춘기,잔나비,아이브,아이브,비비,보라미유,릴보이,타이거JK,윤미래,비지,보라미유,아이브,비오,헤이즈,마린,블랙나인,빌리,원슈타인,블랙나인,마린,호미들,릴김치,윤하,다비치,윤하,비오,호미들,헤이즈,먼데이키즈,아이브,경서예지,릴러말즈,크랙실버,기리보이,트랜트픽션,프로미스나인,홀리뱅,ph-1,싸이,헤이즈,키드밀리,기리보이,스테이씨,위너,볼빨간사춘기,싸이,보라미유,허각,김보경,비와이,기리보이,지플랫,현아,보라미유,유토,릴보이,비비,보라미유,여자아이들,싸이,싸이,닐로,헤이즈 ,윤하,비와이,비비,유토,보라미유,잔나비,에스파,악동뮤지션,지코,비비,윤미래,아이브,위너,비오,트와이스,10CM,프로미스나인,잔나비,싸이,에스파,잔나비,다이나믹 듀오,지코,체리콕,싸이,황인욱,YB,빅마마,경서예지,임창정,현아,키드밀리,저스디스,기리보이,보라미유,현아,에일리,여자아이들,제시,지코,싸이,잔나비,제시,멜로망스,비오,싸이,호미들,메이져스,보라미유,싸이,제시,임창정,거미,호미들,수퍼비,비오,베이식,10cm,여자아이들,보라미유,아이브,싸이,이예준,저스디스,키드밀리,현아,산이,브레이브걸스,위너,거미,먼데이키즈,현아,펀치,헤이즈,스테이씨,DJ미노,신스,체리콕,MC섭이네,폴킴,재만,다비치,박혜원,PLUTO,SARAH,현아,사이먼 도미닉,리듬파워,먼데이키즈,경서예지&전건호,케이시,10CM,윤하,다비치,멜로망스,지코,다운,다이나믹 듀오,볼빨간 사춘기,잔나비,ITZY,HYNN,윤하,지코,10CM,에일리,Dvwn,한요한,아이브,류수정,한요한,아이브,류수정,윤하,잔나비,스테이씨,다이나믹 듀오,10CM,볼빨간 사춘기,아이브,쿠기,그레이,사이몬 도미닉,아이브,쌈디,다비치,류수정,우주소녀,박보람,21학번,멜로망스,한요한,아이브,류수정'"
   ]
  },
  {
   "cell_type": "code",
   "execution_count": 41,
   "id": "00ef756d",
   "metadata": {},
   "outputs": [],
   "source": [
    "artists = {}\n",
    "genres = []\n",
    "for name in list_2022.split(','):\n",
    "    if name not in artists:\n",
    "        artists[name] = 1\n",
    "        if name in bands:\n",
    "            genres.append('밴드')\n",
    "        elif name in rappers:\n",
    "            genres.append('힙합')\n",
    "        elif name in idols:\n",
    "            genres.append('아이돌')\n",
    "        else:\n",
    "            genres.append('기타')\n",
    "    else:\n",
    "        artists[name] += 1\n",
    "\n",
    "artists_2022 = pd.DataFrame({'artist': artists.keys(), 'num': artists.values(), 'genre': genres})"
   ]
  },
  {
   "cell_type": "code",
   "execution_count": 42,
   "id": "7a0f26a1",
   "metadata": {},
   "outputs": [
    {
     "data": {
      "text/html": [
       "<div>\n",
       "<style scoped>\n",
       "    .dataframe tbody tr th:only-of-type {\n",
       "        vertical-align: middle;\n",
       "    }\n",
       "\n",
       "    .dataframe tbody tr th {\n",
       "        vertical-align: top;\n",
       "    }\n",
       "\n",
       "    .dataframe thead th {\n",
       "        text-align: right;\n",
       "    }\n",
       "</style>\n",
       "<table border=\"1\" class=\"dataframe\">\n",
       "  <thead>\n",
       "    <tr style=\"text-align: right;\">\n",
       "      <th></th>\n",
       "      <th>artist</th>\n",
       "      <th>num</th>\n",
       "      <th>genre</th>\n",
       "    </tr>\n",
       "  </thead>\n",
       "  <tbody>\n",
       "    <tr>\n",
       "      <th>0</th>\n",
       "      <td>ITZY</td>\n",
       "      <td>4</td>\n",
       "      <td>아이돌</td>\n",
       "    </tr>\n",
       "    <tr>\n",
       "      <th>1</th>\n",
       "      <td>윤하</td>\n",
       "      <td>9</td>\n",
       "      <td>기타</td>\n",
       "    </tr>\n",
       "    <tr>\n",
       "      <th>2</th>\n",
       "      <td>박혜원</td>\n",
       "      <td>2</td>\n",
       "      <td>기타</td>\n",
       "    </tr>\n",
       "    <tr>\n",
       "      <th>3</th>\n",
       "      <td>지코</td>\n",
       "      <td>9</td>\n",
       "      <td>힙합</td>\n",
       "    </tr>\n",
       "    <tr>\n",
       "      <th>4</th>\n",
       "      <td>DVWN</td>\n",
       "      <td>3</td>\n",
       "      <td>기타</td>\n",
       "    </tr>\n",
       "    <tr>\n",
       "      <th>...</th>\n",
       "      <td>...</td>\n",
       "      <td>...</td>\n",
       "      <td>...</td>\n",
       "    </tr>\n",
       "    <tr>\n",
       "      <th>110</th>\n",
       "      <td>사이몬 도미닉</td>\n",
       "      <td>1</td>\n",
       "      <td>기타</td>\n",
       "    </tr>\n",
       "    <tr>\n",
       "      <th>111</th>\n",
       "      <td>쌈디</td>\n",
       "      <td>1</td>\n",
       "      <td>기타</td>\n",
       "    </tr>\n",
       "    <tr>\n",
       "      <th>112</th>\n",
       "      <td>우주소녀</td>\n",
       "      <td>1</td>\n",
       "      <td>기타</td>\n",
       "    </tr>\n",
       "    <tr>\n",
       "      <th>113</th>\n",
       "      <td>박보람</td>\n",
       "      <td>1</td>\n",
       "      <td>기타</td>\n",
       "    </tr>\n",
       "    <tr>\n",
       "      <th>114</th>\n",
       "      <td>21학번</td>\n",
       "      <td>1</td>\n",
       "      <td>기타</td>\n",
       "    </tr>\n",
       "  </tbody>\n",
       "</table>\n",
       "<p>115 rows × 3 columns</p>\n",
       "</div>"
      ],
      "text/plain": [
       "      artist  num genre\n",
       "0       ITZY    4   아이돌\n",
       "1         윤하    9    기타\n",
       "2        박혜원    2    기타\n",
       "3         지코    9    힙합\n",
       "4       DVWN    3    기타\n",
       "..       ...  ...   ...\n",
       "110  사이몬 도미닉    1    기타\n",
       "111       쌈디    1    기타\n",
       "112     우주소녀    1    기타\n",
       "113      박보람    1    기타\n",
       "114     21학번    1    기타\n",
       "\n",
       "[115 rows x 3 columns]"
      ]
     },
     "execution_count": 42,
     "metadata": {},
     "output_type": "execute_result"
    }
   ],
   "source": [
    "artists_2022"
   ]
  },
  {
   "cell_type": "code",
   "execution_count": 43,
   "id": "7450bfcf",
   "metadata": {},
   "outputs": [],
   "source": [
    "list_2024 = '유니스,10cm,르세라핌,창모,QWER,창모,스탠딩에그,윤하,에이핑크,르세라핌,프로미스나인,에일리,윤하,기리보이,씨엔블루,에이핑크,비,비와이,Tabber,원슈타인,화사,하이라이트,프로미스나인,소란,치즈,장기하,김승민,래원,최예나,볼빨간사춘기,라잇썸,권은비,지코,안녕,다비치,선미,하이라이트,행주,스테이씨,SURL,소미,지코,하하,10cm,지코,카더가든,에이핑크,크라잉넛,한로로,청하,로꼬,루시,멜로망스,장기하,LIGHTSUM,민경훈,청하,스테이씨,비와이,다비치,프로미스나인,지코,폴킴,시그니처,권은비,청하,최예나,로이킴,볼빨간사춘기,엔플라잉,이영서,도리,폴블랑코,조유리,더윈드,하이라이트,우디,더윈드,르세라핌,하이라이트,트리플에스,민경훈,저스디스,르세라핌,비오,최유리,유니스,여동생YDS,HOOK,로이킴,에이핑크,크리스피,글렌체크,권은비,최유리,거미,백예슬,터치드,안녕,태버,체리필터,루시,스텔라장,먼데이키즈,페퍼톤스,다섯,한로로,순순희,프로미스나인,백지영,노라조,비오,이무진,오반,오마이걸,창모,키스오브라이프,스테이씨,권은비,호미들,WOO!AH!,MC섭이,비비지,BAND1225,비와이,QWER,비와이,매드크라운,소유,유다빈밴드,호미들,김나영,볼빨간사춘기,로꼬,우원재,비비지,헤이즈,비오,우디,유정석,창모,잔나비,ph-1,우디고차일드,빅나티,박재범,싸이,창모,화사,최예나,안신애,다니엘지칼,싸이,아일릿,잔나비,데이식스,싸이,창모,애쉬아일랜드,잔나비,최유리,유다빈밴드,설하윤,김필선,10cm,미란이,라이즈,아이브,ITZY,싸이,지코'"
   ]
  },
  {
   "cell_type": "code",
   "execution_count": 44,
   "id": "bad5bc7a",
   "metadata": {},
   "outputs": [],
   "source": [
    "artists = {}\n",
    "genres = []\n",
    "for name in list_2024.split(','):\n",
    "    if name not in artists:\n",
    "        artists[name] = 1\n",
    "        if name in bands:\n",
    "            genres.append('밴드')\n",
    "        elif name in rappers:\n",
    "            genres.append('힙합')\n",
    "        elif name in idols:\n",
    "            genres.append('아이돌')\n",
    "        else:\n",
    "            genres.append('기타')\n",
    "    else:\n",
    "        artists[name] += 1\n",
    "\n",
    "artists_2024 = pd.DataFrame({'artist': artists.keys(), 'num': artists.values(), 'genre': genres})"
   ]
  },
  {
   "cell_type": "code",
   "execution_count": 45,
   "id": "f9be7a75",
   "metadata": {},
   "outputs": [
    {
     "data": {
      "text/html": [
       "<div>\n",
       "<style scoped>\n",
       "    .dataframe tbody tr th:only-of-type {\n",
       "        vertical-align: middle;\n",
       "    }\n",
       "\n",
       "    .dataframe tbody tr th {\n",
       "        vertical-align: top;\n",
       "    }\n",
       "\n",
       "    .dataframe thead th {\n",
       "        text-align: right;\n",
       "    }\n",
       "</style>\n",
       "<table border=\"1\" class=\"dataframe\">\n",
       "  <thead>\n",
       "    <tr style=\"text-align: right;\">\n",
       "      <th></th>\n",
       "      <th>artist</th>\n",
       "      <th>num</th>\n",
       "      <th>genre</th>\n",
       "    </tr>\n",
       "  </thead>\n",
       "  <tbody>\n",
       "    <tr>\n",
       "      <th>0</th>\n",
       "      <td>유니스</td>\n",
       "      <td>2</td>\n",
       "      <td>아이돌</td>\n",
       "    </tr>\n",
       "    <tr>\n",
       "      <th>1</th>\n",
       "      <td>10cm</td>\n",
       "      <td>3</td>\n",
       "      <td>밴드</td>\n",
       "    </tr>\n",
       "    <tr>\n",
       "      <th>2</th>\n",
       "      <td>르세라핌</td>\n",
       "      <td>4</td>\n",
       "      <td>아이돌</td>\n",
       "    </tr>\n",
       "    <tr>\n",
       "      <th>3</th>\n",
       "      <td>창모</td>\n",
       "      <td>6</td>\n",
       "      <td>힙합</td>\n",
       "    </tr>\n",
       "    <tr>\n",
       "      <th>4</th>\n",
       "      <td>QWER</td>\n",
       "      <td>2</td>\n",
       "      <td>밴드</td>\n",
       "    </tr>\n",
       "    <tr>\n",
       "      <th>...</th>\n",
       "      <td>...</td>\n",
       "      <td>...</td>\n",
       "      <td>...</td>\n",
       "    </tr>\n",
       "    <tr>\n",
       "      <th>103</th>\n",
       "      <td>김필선</td>\n",
       "      <td>1</td>\n",
       "      <td>기타</td>\n",
       "    </tr>\n",
       "    <tr>\n",
       "      <th>104</th>\n",
       "      <td>미란이</td>\n",
       "      <td>1</td>\n",
       "      <td>힙합</td>\n",
       "    </tr>\n",
       "    <tr>\n",
       "      <th>105</th>\n",
       "      <td>라이즈</td>\n",
       "      <td>1</td>\n",
       "      <td>기타</td>\n",
       "    </tr>\n",
       "    <tr>\n",
       "      <th>106</th>\n",
       "      <td>아이브</td>\n",
       "      <td>1</td>\n",
       "      <td>아이돌</td>\n",
       "    </tr>\n",
       "    <tr>\n",
       "      <th>107</th>\n",
       "      <td>ITZY</td>\n",
       "      <td>1</td>\n",
       "      <td>아이돌</td>\n",
       "    </tr>\n",
       "  </tbody>\n",
       "</table>\n",
       "<p>108 rows × 3 columns</p>\n",
       "</div>"
      ],
      "text/plain": [
       "    artist  num genre\n",
       "0      유니스    2   아이돌\n",
       "1     10cm    3    밴드\n",
       "2     르세라핌    4   아이돌\n",
       "3       창모    6    힙합\n",
       "4     QWER    2    밴드\n",
       "..     ...  ...   ...\n",
       "103    김필선    1    기타\n",
       "104    미란이    1    힙합\n",
       "105    라이즈    1    기타\n",
       "106    아이브    1   아이돌\n",
       "107   ITZY    1   아이돌\n",
       "\n",
       "[108 rows x 3 columns]"
      ]
     },
     "execution_count": 45,
     "metadata": {},
     "output_type": "execute_result"
    }
   ],
   "source": [
    "artists_2024"
   ]
  },
  {
   "cell_type": "code",
   "execution_count": 46,
   "id": "dfbd6d2d",
   "metadata": {},
   "outputs": [],
   "source": [
    "list_2025 = '5.26(월) 엔플라잉,5.27(화) 이영지 / 키코,5.28(수) 스테이씨 / 루시 / 권진아,동의대,5.26(월) 메이딘 / 한승우 / 허각 / 화사 / 헤이즈 ,5.27(화) HITGS / DJ 수빈 / QWER / TNX / 싸이 ,경국대,5.26(월) 하동균 / 길구봉구 / YB,5.27(화) 리센느 / 케플러 / 자이언티,전주대,5.27(화) 정승환 / 체리필터 / 루시 / 지소쿠리클럽,5.28(수) 김승민 / 다이나믹듀오 / 호미들 / SZN / SC4F & MADII,5.29(목) 헤이즈 / 엔플라잉 / 웬디 / 이하이,교원대,5.22(목) 호미들 / 한동근 / 청하 ,5.23(금) 21학번,광운대,5.21(수) 트리플에스 / 카더가든,5.22(목) 최예나 / 기리보이 / 지코,5.23(금) 10cm / 유다빈밴드 / 엔플라잉,경민대,5.22-23 애쉬아일랜드 / 비비지 / 리센느 ,경인여대,5.21(수) 앰퍼샌드원 / ph-1 / 엔플라잉 / 빌리 ,한국기술교육대,5.15(목) 양다일 / 호미들,5.16(금) 효린 / 미야오 ,청주대,5.20(화) 메이딘 / TNX / 다이나믹듀오 / 싸이 ,5.21(수) 인어미닛 / 미야오 / 우디 / QWER ,서강대,5.15(목) 인어미닛 / 메이딘 / 한승우 / 아일릿 / 크러쉬,5.16(금) 예은 / TNX / 힛지스 / 리센느 / 싸이 ,배재대,5.12(월) 안신애 / 유니스 / TNX,5.13(화) 길구봉구 / 하동균 / 싸이,구미대,5.13(화) 피프티피프티 / 싸이 / TNX / 안신애,5.14(수) 비와이 / 규빈 / 백호 / 윤마치 / 루시 ,한국체육대,5.15(목) 한요한 / YB,5.16(금) 키스오브라이프 / 슈퍼비 / 언에듀케이티드 키드 ,홍익대 (서울),5.14(수) 키키 / 창모 / 빈지노,5.15(목) 심아일랜드 / 메이딘 / 이승윤,5.16(금) 잔나비 / YB / 에스파 / 싸이,홍익대 (세종),5.15(목) 김승민 / 창모 / 카더가든 ,5.16(금) 최예나 / 하이키 / 정예원 ,단국대 (죽전) ,5.13(화) ph-1 / 릴보이 ,5.14(수) 10cm / 엔플라잉 / 권은비,5.15(목) 안신애 / 키키 / 박재범 ,단국대(천안),5.7(수) 키스오브라이프 / 메이딘 / 키노 / 다비치,5.8(목) 잔나비 / 싸이 / TNX / 타이거 JK & 윤미래,순천향대,5.7(수) 윤마치 / 권은비 / YB,5.8(목) 호미들 / 애쉬 아일랜드,5.9(금) 로이킴 / 다비치 / 루시,호서대,5.7(수) 멜로망스 / 키스오브라이프 / 한요한 / 권은비,5.8(목) 아이칠린 / 애쉬아일랜드 / 최유리 / 다이나믹듀오 / 비와이,인천대,5.7(수) 식구 / 루시 / 엔플라잉,5.8(목) 안신애 / 싸이 / 이젤 / 키키,5.9(금) 신스 / 거미 / 다이나믹 듀오 ,경복대,5.8(목)엔젤노이즈,5.9(금) 우원재 / 10cm,추계예술대,5.9(금) 비와이 / 시소,상명대,5.8(목) 김혜림 / 서인국 / 이무진,5.9(금) 청하 / 싸이 / 마크툽 ,성균관대 인문캠,5.8(목) 키키 / 안신애 / 키스오브라이프 / YB,5.9(금) 아이브 / 잔나비 / 싸이,성균관대 자연캠,5.15(목) 유다빈밴드 / 최예나 / 비비지 / 10cm,5.16(금) 윤마치 / 릴보이 / 빅나티 / 권은비 / 크러쉬,서울대 봄축제,5.15(목) 빌리 / 루시 / 다이나믹듀오,서경대,5.8(목) 빅나티 / 권은비 / 카더가든,5.9(금) YB / ITZY / DJ pastello,원광대,5.12(월) 루시 / 나상현씨밴드 / 유다빈밴드 / QWER ,5.13(화) 이즈나 / 홀리뱅 / 이창섭 / 쿠기 / 그레이 / 애쉬 아일랜드 / TIOT,성서대,5.13(화) 우디 / 김승민 / 캐치더영 ,한국항공대,5.13(화) 트랜스픽션 / YB,5.14(수) 최예나 / 스테이씨,세종대,5.14(수) 로시 / 잔나비 / 엔믹스,5.15(목) 스컬&하하 / 키스오브라이프 / 지코,5.16(금) 나상현씨밴드 / 에이핑크 / 하이라이트,가천대,5.14(수) 권은비 / 크러쉬 / 산다라박 / 다이나믹 듀오 / 지원 / 백호 / 리센느 / 청하 ,김천대학교,5.14(수) 스탠업 / 래원,5.15(목) 이창섭 / 박혜원,이화여자대학교,5.16(금) 재쓰비 / 너드커넥션 / 다비치 / 미란이,남서울대,5.13(화) 리센느 / 창모 / 스테이씨 / 10cm ,5.14(수) 엔젤노이즈 / 넬 / 권은비 / 볼빨간사춘기,한라대,5.13(화)권은비 / 행주,5.14(수) 리센느 / 애쉬 아일랜드,한세대,5.13(화) 규빈 / 김수영 / 카더가든 / 루시,5.14(수) 경서예지 / 한요한 / KINO / 에이핑크,여주대,5.13(화) 언에듀케이드키드 / 슈퍼비 / 호미들,5.14(수) 엔믹스 ,세명대,5.14~5.16 화사 / 싸이 / TNX ,서울 과기대,5.14(수) 지코 / 10cm,5.15(목) 권은비 / 기리보이,5.16(금) ITZY / 백예린 ,한성대,5.15(목) 로시 / 우원재 / 이하이,5.16(금) 유니스 / 넬 / 체리필터 / 비비지,배화여자대학교,5.15(목) 소란 / 아일릿 / 나상현씨밴드,군산대,5.14(수) 유다빈밴드 / 신스 / 다이나믹 듀오,5.15(목) 리센느 / 윤하 / 김승민,창신대,5.15(목) 유니스 / 청하 ,인하대,5.14(수) 안신애 / 최예나 / YB / ITZY,5.15(목) 비비지 / 빅나티 / 에일리 / 잔나비,5.16(금) 창모 / 선미 / 에픽하이,경희대,5.14(수) 키키 / 로이킴 / 박재범,5.15(목) 루시 / 엔플라잉 / 빈지노 / 백예린,5.16(금) 폴킴 / 투어스 / ITZY,전북대,5.21(수) YB / 나상현씨밴드 / 로시 / 지미브라운 / TIOT,5.22(목) 이영지 / 스컬&하하 / 키코 / 인어미닛 / 이민정,5.23(금) 키키 / 권은비 / 이프아이 / TNX,제주대,5.20(화) 루시 / 윤마치,5.21(수) 도리 / 헤이즈,5.22(목) 케플러 / 백호 / 너드커넥션,건국대,5.20(화) 김수영 / 카더가든 / 잔나비,5.21(수) wave to earth / 에스파 / 다이나믹듀오 / 백예린,5.22(목) ITZY / YB / 싸이,협성대,5.21(수) 안신애 / 화사,5.22(목) 윤마치 / 루시 ,한남대,5.19(월) 하이라이트 / 츄,5.20(화) 스테이씨 / YB ,5.21(수) 권은비 / 멜로망스 ,경남대,5.20(화) 이창섭 / 케이시,5.21(수) 스테이씨 ,5.22(목) 황인욱 / 범진 ,서울시립대,5.19(월) 원위 / 최예나,5.20(화) QWER,5.21(수) 윤하 / 투어스 ,용인예술과학대,5.22(목) 비오 / 양다일 / 이승윤 ,호원대,5.19(월) 이창섭 / 한요한,5.20(화) 이하이 / 마린 / 블랙나인 ,동아방송예술대,5.29(목) 최유리 / 카더가든 / 권은비,5.30(금) 캐치더영 / 김수영 / 이창섭 / 키노 / 하이라이트,선문대학교,5.21(수) QWER / 너드커넥션 / 이창섭,5.22(목) 빅나티 / 리센느 / 청하 / 이무진,한국외대 서울캠퍼스,5.19(월) 비투비 / 선미 / YB,5.20(화) 윤하 / 트랜스픽션 / 백예린,우송대,5.19(월) 카더가든 / 창모 / 리센느,5.20(화) 메이딘 / 키노 / 싸이 ,동양미래대,5.16(금) 리센느 / 이채연 / 원위 / 세이마이네임 / 로이킴,경성대,5.20(화) 박혜원 / 기리보이 / 레게 강 같은 평화,5.21(수) 정승환 / 원슈타인 / 에프티아일랜드 ,숭실대,5.21(수) 지코 ,5.22(목) 잔나비 / NCT WISH,5.23(금) 백예린 / 아이들 ,수원대,5.22(목) 다비치 / 권은비 / 다이나믹 듀오,5.23(금) 안신애 / 윤하 / 츄 / 창모,한밭대,5.21(수) 우디 / DK,5.22(목) 리센느 / 이창섭 ,5.23(금) FT아일랜드,중앙대,5.21(수) 쏜애플 / 에스파 / 정동원,5.22(목) 행주 / 창모 / 스테이씨 / 나상현씨밴드,5.23(금) 다이나믹듀오 / YB / NCT DREAM,대구대,5.19(월) 백호 / QWER,5.20(화) 이창섭 / 볼빨간사춘기,5.21(수) 양홍원 / 스테이씨,금오공대,5.20(화) 라잇썸,5.21(수) 츄 / 하이키 / 트랜스픽션,연세대 (무악대동제),5.29(목)-30(금) 이적 / 장기하 / 10cm / 카더가든 / 실리카겔 / 이승윤 / 나상현씨밴드 / 스텔라장 / 소수빈 / 정세운 / 윤마치 / 리도어,서울여자대학교,5.22(목) 유다빈밴드,5.23(금) 이채연 ,가톨릭대,5.21(수) 이영지 / 최예나 / 키코,5.22(목) 엔플라잉 / 크러쉬,5.22(목),국민대,5.20(화) 최예나 / 키스오브라이프 / 빈지노,5.21(수) 하하 / 자이언티 / 리센느,강남대,5.21(수) 김수영 / 이승윤 / 창모 / 신스,5.22(목) 이프아이 / 루시 / 키키 / 에프티아일랜드,조선대,5.28(수) 이즈나 / 창모 / 잔나비 / 싸이,5.29(목) 권진아 / QWER / 윤마치 / 로이킴,5.30(금) 홀리뱅 / 백호 / 지코 ,순천대,5.28(수) 싸이 / 너드커넥션 / 현서,5.29(목) 백호 / 헤이즈 / QWER,동국대,5.28(수) 카더가든 / 빈지노 / 엔시티 드림 / 크러쉬,5.29(목) 키스오브라이프 / 다이나믹듀오 / 씨엔블루 / 윤하,명지대 ,5.26(월) 김승민 / 아이들 / 폴킴 ,5.27(화) 기리보이 / 양다일 / 청하,연세대(미래캠),5.28(수) 키스오브라이프 / 이창섭 / 소향 / 유니스,5.29(목) 제나 설 / 장현승 / 인어미닛 / 루시 / 스테이씨 ,부경대,5.27(화) 스테이씨 / 한요한,5.28(수) 에이핑크 / 로이킴 ,5.29(목) 유다빈밴드 / 김하온 / ph-1'"
   ]
  },
  {
   "cell_type": "code",
   "execution_count": 47,
   "id": "eac2da89",
   "metadata": {},
   "outputs": [],
   "source": [
    "chunks = list_2025.split(',')"
   ]
  },
  {
   "cell_type": "code",
   "execution_count": 48,
   "id": "21dc42dd",
   "metadata": {},
   "outputs": [],
   "source": [
    "artists = {}\n",
    "genres = []\n",
    "for chunk in chunks:\n",
    "    if chunk[0] != 5:\n",
    "        pass\n",
    "    names = chunk[len(chunk.split(' ')[0]):].split('/')\n",
    "    for name in names:\n",
    "        temp = name.strip()\n",
    "        if temp not in artists:\n",
    "            artists[temp] = 1\n",
    "            if temp in bands:\n",
    "                genres.append('밴드')\n",
    "            elif temp in rappers:\n",
    "                genres.append('힙합')\n",
    "            elif temp in idols:\n",
    "                genres.append('아이돌')\n",
    "            else:\n",
    "                genres.append('기타')\n",
    "        else:\n",
    "            artists[temp] += 1\n",
    "\n",
    "artists_2025 = pd.DataFrame({'artist': artists.keys(), 'num': artists.values(), 'genre': genres})"
   ]
  },
  {
   "cell_type": "code",
   "execution_count": 49,
   "id": "2ec5d7dc",
   "metadata": {},
   "outputs": [
    {
     "data": {
      "text/html": [
       "<div>\n",
       "<style scoped>\n",
       "    .dataframe tbody tr th:only-of-type {\n",
       "        vertical-align: middle;\n",
       "    }\n",
       "\n",
       "    .dataframe tbody tr th {\n",
       "        vertical-align: top;\n",
       "    }\n",
       "\n",
       "    .dataframe thead th {\n",
       "        text-align: right;\n",
       "    }\n",
       "</style>\n",
       "<table border=\"1\" class=\"dataframe\">\n",
       "  <thead>\n",
       "    <tr style=\"text-align: right;\">\n",
       "      <th></th>\n",
       "      <th>artist</th>\n",
       "      <th>num</th>\n",
       "      <th>genre</th>\n",
       "    </tr>\n",
       "  </thead>\n",
       "  <tbody>\n",
       "    <tr>\n",
       "      <th>0</th>\n",
       "      <td>엔플라잉</td>\n",
       "      <td>8</td>\n",
       "      <td>밴드</td>\n",
       "    </tr>\n",
       "    <tr>\n",
       "      <th>1</th>\n",
       "      <td>이영지</td>\n",
       "      <td>3</td>\n",
       "      <td>힙합</td>\n",
       "    </tr>\n",
       "    <tr>\n",
       "      <th>2</th>\n",
       "      <td>키코</td>\n",
       "      <td>3</td>\n",
       "      <td>힙합</td>\n",
       "    </tr>\n",
       "    <tr>\n",
       "      <th>3</th>\n",
       "      <td>스테이씨</td>\n",
       "      <td>9</td>\n",
       "      <td>아이돌</td>\n",
       "    </tr>\n",
       "    <tr>\n",
       "      <th>4</th>\n",
       "      <td>루시</td>\n",
       "      <td>13</td>\n",
       "      <td>밴드</td>\n",
       "    </tr>\n",
       "    <tr>\n",
       "      <th>...</th>\n",
       "      <td>...</td>\n",
       "      <td>...</td>\n",
       "      <td>...</td>\n",
       "    </tr>\n",
       "    <tr>\n",
       "      <th>188</th>\n",
       "      <td>씨엔블루</td>\n",
       "      <td>1</td>\n",
       "      <td>밴드</td>\n",
       "    </tr>\n",
       "    <tr>\n",
       "      <th>189</th>\n",
       "      <td>소향</td>\n",
       "      <td>1</td>\n",
       "      <td>기타</td>\n",
       "    </tr>\n",
       "    <tr>\n",
       "      <th>190</th>\n",
       "      <td>제나 설</td>\n",
       "      <td>1</td>\n",
       "      <td>기타</td>\n",
       "    </tr>\n",
       "    <tr>\n",
       "      <th>191</th>\n",
       "      <td>장현승</td>\n",
       "      <td>1</td>\n",
       "      <td>기타</td>\n",
       "    </tr>\n",
       "    <tr>\n",
       "      <th>192</th>\n",
       "      <td>김하온</td>\n",
       "      <td>1</td>\n",
       "      <td>힙합</td>\n",
       "    </tr>\n",
       "  </tbody>\n",
       "</table>\n",
       "<p>193 rows × 3 columns</p>\n",
       "</div>"
      ],
      "text/plain": [
       "    artist  num genre\n",
       "0     엔플라잉    8    밴드\n",
       "1      이영지    3    힙합\n",
       "2       키코    3    힙합\n",
       "3     스테이씨    9   아이돌\n",
       "4       루시   13    밴드\n",
       "..     ...  ...   ...\n",
       "188   씨엔블루    1    밴드\n",
       "189     소향    1    기타\n",
       "190   제나 설    1    기타\n",
       "191    장현승    1    기타\n",
       "192    김하온    1    힙합\n",
       "\n",
       "[193 rows x 3 columns]"
      ]
     },
     "execution_count": 49,
     "metadata": {},
     "output_type": "execute_result"
    }
   ],
   "source": [
    "artists_2025"
   ]
  },
  {
   "cell_type": "code",
   "execution_count": 53,
   "id": "2fe3be8a",
   "metadata": {},
   "outputs": [
    {
     "data": {
      "text/plain": [
       "([<matplotlib.patches.Wedge at 0x26484d93150>,\n",
       "  <matplotlib.patches.Wedge at 0x26484d90290>,\n",
       "  <matplotlib.patches.Wedge at 0x26484d9a750>,\n",
       "  <matplotlib.patches.Wedge at 0x26484d99a90>],\n",
       " [Text(1.0861398225508276, 0.17406977299134144, '밴드'),\n",
       "  Text(0.8171593187511582, 0.736376702359698, '아이돌'),\n",
       "  Text(-0.19395496551866967, 1.0827656585571284, '힙합'),\n",
       "  Text(-0.42560589008900057, -1.0143271791298651, '기타')],\n",
       " [Text(0.5924399032095422, 0.09494714890436805, '5.1%'),\n",
       "  Text(0.445723264773359, 0.4016600194689261, '13.2%'),\n",
       "  Text(-0.10579361755563799, 0.5905994501220699, '19.1%'),\n",
       "  Text(-0.23214866732127298, -0.5532693704344719, '62.6%')])"
      ]
     },
     "execution_count": 53,
     "metadata": {},
     "output_type": "execute_result"
    },
    {
     "data": {
      "image/png": "[encoded data removed]",
      "text/plain": [
       "<Figure size 640x480 with 1 Axes>"
      ]
     },
     "metadata": {},
     "output_type": "display_data"
    }
   ],
   "source": [
    "genres = ['밴드','아이돌','힙합','기타']\n",
    "\n",
    "genre_sum = [artists_2022[artists_2022['genre']==genre]['num'].sum() for genre in genres]\n",
    "\n",
    "plt.pie(genre_sum, labels = genres, autopct='%.1f%%')"
   ]
  },
  {
   "cell_type": "code",
   "execution_count": 50,
   "id": "b5ad54a4",
   "metadata": {},
   "outputs": [
    {
     "data": {
      "text/plain": [
       "([<matplotlib.patches.Wedge at 0x26483786310>,\n",
       "  <matplotlib.patches.Wedge at 0x26483787290>,\n",
       "  <matplotlib.patches.Wedge at 0x26483798950>,\n",
       "  <matplotlib.patches.Wedge at 0x26483798110>],\n",
       " [Text(1.0265759166028492, 0.3951479310979879, '밴드'),\n",
       "  Text(0.05050495899212386, 1.098839956097886, '아이돌'),\n",
       "  Text(-1.0733760615733534, 0.24054901879092513, '힙합'),\n",
       "  Text(0.21088185603061754, -1.0795966111456083, '기타')],\n",
       " [Text(0.5599504999651904, 0.21553523514435702, '11.7%'),\n",
       "  Text(0.027548159450249375, 0.599367248780665, '25.1%'),\n",
       "  Text(-0.5854778517672836, 0.13120855570414097, '19.3%'),\n",
       "  Text(0.11502646692579137, -0.5888708788066954, '43.9%')])"
      ]
     },
     "execution_count": 50,
     "metadata": {},
     "output_type": "execute_result"
    },
    {
     "data": {
      "image/png": "[encoded data removed]",
      "text/plain": [
       "<Figure size 640x480 with 1 Axes>"
      ]
     },
     "metadata": {},
     "output_type": "display_data"
    }
   ],
   "source": [
    "genres = ['밴드','아이돌','힙합','기타']\n",
    "\n",
    "genre_sum = [artists_2024[artists_2024['genre']==genre]['num'].sum() for genre in genres]\n",
    "\n",
    "plt.pie(genre_sum, labels = genres, autopct='%.1f%%')"
   ]
  },
  {
   "cell_type": "code",
   "execution_count": 51,
   "id": "880d0a4d",
   "metadata": {},
   "outputs": [
    {
     "data": {
      "text/plain": [
       "([<matplotlib.patches.Wedge at 0x264837cac50>,\n",
       "  <matplotlib.patches.Wedge at 0x264837d83d0>,\n",
       "  <matplotlib.patches.Wedge at 0x264837da250>,\n",
       "  <matplotlib.patches.Wedge at 0x264837d9890>],\n",
       " [Text(0.9797139861808524, 0.5001604795279458, '밴드'),\n",
       "  Text(0.09507293720226642, 1.0958837240381545, '아이돌'),\n",
       "  Text(-0.8540734861956337, 0.693223254210097, '힙합'),\n",
       "  Text(-0.13523305358507845, -1.0916556330721037, '기타')],\n",
       " [Text(0.5343894470077376, 0.2728148070152432, '15.0%'),\n",
       "  Text(0.05185796574669077, 0.597754758566266, '17.2%'),\n",
       "  Text(-0.46585826519761836, 0.3781217750236892, '13.9%'),\n",
       "  Text(-0.07376348377367914, -0.5954485271302383, '53.9%')])"
      ]
     },
     "execution_count": 51,
     "metadata": {},
     "output_type": "execute_result"
    },
    {
     "data": {
      "image/png": "[encoded data removed]",
      "text/plain": [
       "<Figure size 640x480 with 1 Axes>"
      ]
     },
     "metadata": {},
     "output_type": "display_data"
    }
   ],
   "source": [
    "genres = ['밴드','아이돌','힙합','기타']\n",
    "\n",
    "genre_sum = [artists_2025[artists_2025['genre']==genre]['num'].sum() for genre in genres]\n",
    "\n",
    "plt.pie(genre_sum, labels = genres, autopct='%.1f%%')"
   ]
  },
  {
   "cell_type": "code",
   "execution_count": null,
   "id": "f064967a",
   "metadata": {},
   "outputs": [],
   "source": []
  }
 ],
 "metadata": {
  "kernelspec": {
   "display_name": "Python 3",
   "language": "python",
   "name": "python3"
  },
  "language_info": {
   "codemirror_mode": {
    "name": "ipython",
    "version": 3
   },
   "file_extension": ".py",
   "mimetype": "text/x-python",
   "name": "python",
   "nbconvert_exporter": "python",
   "pygments_lexer": "ipython3",
   "version": "3.11.11"
  }
 },
 "nbformat": 4,
 "nbformat_minor": 5
}
