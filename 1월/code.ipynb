{
 "cells": [
  {
   "cell_type": "code",
   "execution_count": 17,
   "metadata": {},
   "outputs": [],
   "source": [
    "import pandas as pd\n",
    "import matplotlib as plt\n",
    "import seaborn as sns\n",
    "\n",
    "plt.rc('font', family='NanumGothicCoding')\n",
    "sns.set(font='NanumGothicCoding')"
   ]
  },
  {
   "cell_type": "code",
   "execution_count": 18,
   "metadata": {},
   "outputs": [],
   "source": [
    "movie = pd.read_csv('영화_관람객통계.csv')\n",
    "book = pd.read_csv('도서_판매통계.csv')"
   ]
  },
  {
   "cell_type": "code",
   "execution_count": 19,
   "metadata": {},
   "outputs": [
    {
     "data": {
      "text/html": [
       "<div>\n",
       "<style scoped>\n",
       "    .dataframe tbody tr th:only-of-type {\n",
       "        vertical-align: middle;\n",
       "    }\n",
       "\n",
       "    .dataframe tbody tr th {\n",
       "        vertical-align: top;\n",
       "    }\n",
       "\n",
       "    .dataframe thead th {\n",
       "        text-align: right;\n",
       "    }\n",
       "</style>\n",
       "<table border=\"1\" class=\"dataframe\">\n",
       "  <thead>\n",
       "    <tr style=\"text-align: right;\">\n",
       "      <th></th>\n",
       "      <th>월</th>\n",
       "      <th>판매부수</th>\n",
       "    </tr>\n",
       "  </thead>\n",
       "  <tbody>\n",
       "    <tr>\n",
       "      <th>0</th>\n",
       "      <td>1</td>\n",
       "      <td>10000683</td>\n",
       "    </tr>\n",
       "    <tr>\n",
       "      <th>1</th>\n",
       "      <td>2</td>\n",
       "      <td>8775392</td>\n",
       "    </tr>\n",
       "    <tr>\n",
       "      <th>2</th>\n",
       "      <td>3</td>\n",
       "      <td>10831620</td>\n",
       "    </tr>\n",
       "    <tr>\n",
       "      <th>3</th>\n",
       "      <td>4</td>\n",
       "      <td>8151327</td>\n",
       "    </tr>\n",
       "    <tr>\n",
       "      <th>4</th>\n",
       "      <td>5</td>\n",
       "      <td>8361668</td>\n",
       "    </tr>\n",
       "    <tr>\n",
       "      <th>5</th>\n",
       "      <td>6</td>\n",
       "      <td>7725923</td>\n",
       "    </tr>\n",
       "    <tr>\n",
       "      <th>6</th>\n",
       "      <td>7</td>\n",
       "      <td>9499881</td>\n",
       "    </tr>\n",
       "    <tr>\n",
       "      <th>7</th>\n",
       "      <td>8</td>\n",
       "      <td>8849639</td>\n",
       "    </tr>\n",
       "    <tr>\n",
       "      <th>8</th>\n",
       "      <td>9</td>\n",
       "      <td>8340707</td>\n",
       "    </tr>\n",
       "    <tr>\n",
       "      <th>9</th>\n",
       "      <td>10</td>\n",
       "      <td>9764419</td>\n",
       "    </tr>\n",
       "    <tr>\n",
       "      <th>10</th>\n",
       "      <td>11</td>\n",
       "      <td>8270473</td>\n",
       "    </tr>\n",
       "    <tr>\n",
       "      <th>11</th>\n",
       "      <td>12</td>\n",
       "      <td>10150666</td>\n",
       "    </tr>\n",
       "  </tbody>\n",
       "</table>\n",
       "</div>"
      ],
      "text/plain": [
       "     월      판매부수\n",
       "0    1  10000683\n",
       "1    2   8775392\n",
       "2    3  10831620\n",
       "3    4   8151327\n",
       "4    5   8361668\n",
       "5    6   7725923\n",
       "6    7   9499881\n",
       "7    8   8849639\n",
       "8    9   8340707\n",
       "9   10   9764419\n",
       "10  11   8270473\n",
       "11  12  10150666"
      ]
     },
     "execution_count": 19,
     "metadata": {},
     "output_type": "execute_result"
    }
   ],
   "source": [
    "book"
   ]
  },
  {
   "cell_type": "code",
   "execution_count": 20,
   "metadata": {},
   "outputs": [
    {
     "data": {
      "text/html": [
       "<div>\n",
       "<style scoped>\n",
       "    .dataframe tbody tr th:only-of-type {\n",
       "        vertical-align: middle;\n",
       "    }\n",
       "\n",
       "    .dataframe tbody tr th {\n",
       "        vertical-align: top;\n",
       "    }\n",
       "\n",
       "    .dataframe thead th {\n",
       "        text-align: right;\n",
       "    }\n",
       "</style>\n",
       "<table border=\"1\" class=\"dataframe\">\n",
       "  <thead>\n",
       "    <tr style=\"text-align: right;\">\n",
       "      <th></th>\n",
       "      <th>영화명</th>\n",
       "      <th>관객수</th>\n",
       "      <th>대표국적</th>\n",
       "      <th>월</th>\n",
       "    </tr>\n",
       "  </thead>\n",
       "  <tbody>\n",
       "    <tr>\n",
       "      <th>0</th>\n",
       "      <td>소방관</td>\n",
       "      <td>2655275</td>\n",
       "      <td>한국</td>\n",
       "      <td>12</td>\n",
       "    </tr>\n",
       "    <tr>\n",
       "      <th>1</th>\n",
       "      <td>모아나 2</td>\n",
       "      <td>2135726</td>\n",
       "      <td>미국</td>\n",
       "      <td>12</td>\n",
       "    </tr>\n",
       "    <tr>\n",
       "      <th>2</th>\n",
       "      <td>위키드</td>\n",
       "      <td>821627</td>\n",
       "      <td>미국</td>\n",
       "      <td>12</td>\n",
       "    </tr>\n",
       "    <tr>\n",
       "      <th>3</th>\n",
       "      <td>히든페이스</td>\n",
       "      <td>351809</td>\n",
       "      <td>한국</td>\n",
       "      <td>12</td>\n",
       "    </tr>\n",
       "    <tr>\n",
       "      <th>4</th>\n",
       "      <td>무파사: 라이온 킹</td>\n",
       "      <td>333134</td>\n",
       "      <td>미국</td>\n",
       "      <td>12</td>\n",
       "    </tr>\n",
       "    <tr>\n",
       "      <th>...</th>\n",
       "      <td>...</td>\n",
       "      <td>...</td>\n",
       "      <td>...</td>\n",
       "      <td>...</td>\n",
       "    </tr>\n",
       "    <tr>\n",
       "      <th>7394</th>\n",
       "      <td>레전더리 콘서트: 레너드 번스타인</td>\n",
       "      <td>0</td>\n",
       "      <td>독일</td>\n",
       "      <td>1</td>\n",
       "    </tr>\n",
       "    <tr>\n",
       "      <th>7395</th>\n",
       "      <td>번지점프를 하다</td>\n",
       "      <td>0</td>\n",
       "      <td>한국</td>\n",
       "      <td>1</td>\n",
       "    </tr>\n",
       "    <tr>\n",
       "      <th>7396</th>\n",
       "      <td>봄날은 간다</td>\n",
       "      <td>0</td>\n",
       "      <td>한국</td>\n",
       "      <td>1</td>\n",
       "    </tr>\n",
       "    <tr>\n",
       "      <th>7397</th>\n",
       "      <td>파이란</td>\n",
       "      <td>0</td>\n",
       "      <td>한국</td>\n",
       "      <td>1</td>\n",
       "    </tr>\n",
       "    <tr>\n",
       "      <th>7398</th>\n",
       "      <td>와니와 준하</td>\n",
       "      <td>0</td>\n",
       "      <td>한국</td>\n",
       "      <td>1</td>\n",
       "    </tr>\n",
       "  </tbody>\n",
       "</table>\n",
       "<p>7399 rows × 4 columns</p>\n",
       "</div>"
      ],
      "text/plain": [
       "                     영화명      관객수 대표국적   월\n",
       "0                    소방관  2655275   한국  12\n",
       "1                  모아나 2  2135726   미국  12\n",
       "2                    위키드   821627   미국  12\n",
       "3                  히든페이스   351809   한국  12\n",
       "4             무파사: 라이온 킹   333134   미국  12\n",
       "...                  ...      ...  ...  ..\n",
       "7394  레전더리 콘서트: 레너드 번스타인        0   독일   1\n",
       "7395            번지점프를 하다        0   한국   1\n",
       "7396              봄날은 간다        0   한국   1\n",
       "7397                 파이란        0   한국   1\n",
       "7398              와니와 준하        0   한국   1\n",
       "\n",
       "[7399 rows x 4 columns]"
      ]
     },
     "execution_count": 20,
     "metadata": {},
     "output_type": "execute_result"
    }
   ],
   "source": [
    "movie"
   ]
  },
  {
   "cell_type": "code",
   "execution_count": 21,
   "metadata": {},
   "outputs": [],
   "source": [
    "data = pd.DataFrame({'영화 관객수':movie.groupby(by=[\"월\"]).sum()['관객수'], '도서 판매부수':book.groupby(by=[\"월\"]).sum()['판매부수']})"
   ]
  },
  {
   "cell_type": "code",
   "execution_count": 22,
   "metadata": {},
   "outputs": [
    {
     "data": {
      "text/html": [
       "<div>\n",
       "<style scoped>\n",
       "    .dataframe tbody tr th:only-of-type {\n",
       "        vertical-align: middle;\n",
       "    }\n",
       "\n",
       "    .dataframe tbody tr th {\n",
       "        vertical-align: top;\n",
       "    }\n",
       "\n",
       "    .dataframe thead th {\n",
       "        text-align: right;\n",
       "    }\n",
       "</style>\n",
       "<table border=\"1\" class=\"dataframe\">\n",
       "  <thead>\n",
       "    <tr style=\"text-align: right;\">\n",
       "      <th></th>\n",
       "      <th>영화 관객수</th>\n",
       "      <th>도서 판매부수</th>\n",
       "    </tr>\n",
       "    <tr>\n",
       "      <th>월</th>\n",
       "      <th></th>\n",
       "      <th></th>\n",
       "    </tr>\n",
       "  </thead>\n",
       "  <tbody>\n",
       "    <tr>\n",
       "      <th>1</th>\n",
       "      <td>7752095</td>\n",
       "      <td>10000683</td>\n",
       "    </tr>\n",
       "    <tr>\n",
       "      <th>2</th>\n",
       "      <td>11458714</td>\n",
       "      <td>8775392</td>\n",
       "    </tr>\n",
       "    <tr>\n",
       "      <th>3</th>\n",
       "      <td>11697143</td>\n",
       "      <td>10831620</td>\n",
       "    </tr>\n",
       "    <tr>\n",
       "      <th>4</th>\n",
       "      <td>9334865</td>\n",
       "      <td>8151327</td>\n",
       "    </tr>\n",
       "    <tr>\n",
       "      <th>5</th>\n",
       "      <td>11356729</td>\n",
       "      <td>8361668</td>\n",
       "    </tr>\n",
       "    <tr>\n",
       "      <th>6</th>\n",
       "      <td>11329974</td>\n",
       "      <td>7725923</td>\n",
       "    </tr>\n",
       "    <tr>\n",
       "      <th>7</th>\n",
       "      <td>12033801</td>\n",
       "      <td>9499881</td>\n",
       "    </tr>\n",
       "    <tr>\n",
       "      <th>8</th>\n",
       "      <td>11779811</td>\n",
       "      <td>8849639</td>\n",
       "    </tr>\n",
       "    <tr>\n",
       "      <th>9</th>\n",
       "      <td>10105369</td>\n",
       "      <td>8340707</td>\n",
       "    </tr>\n",
       "    <tr>\n",
       "      <th>10</th>\n",
       "      <td>6278332</td>\n",
       "      <td>9764419</td>\n",
       "    </tr>\n",
       "    <tr>\n",
       "      <th>11</th>\n",
       "      <td>6994946</td>\n",
       "      <td>8270473</td>\n",
       "    </tr>\n",
       "    <tr>\n",
       "      <th>12</th>\n",
       "      <td>8064873</td>\n",
       "      <td>10150666</td>\n",
       "    </tr>\n",
       "  </tbody>\n",
       "</table>\n",
       "</div>"
      ],
      "text/plain": [
       "      영화 관객수   도서 판매부수\n",
       "월                     \n",
       "1    7752095  10000683\n",
       "2   11458714   8775392\n",
       "3   11697143  10831620\n",
       "4    9334865   8151327\n",
       "5   11356729   8361668\n",
       "6   11329974   7725923\n",
       "7   12033801   9499881\n",
       "8   11779811   8849639\n",
       "9   10105369   8340707\n",
       "10   6278332   9764419\n",
       "11   6994946   8270473\n",
       "12   8064873  10150666"
      ]
     },
     "execution_count": 22,
     "metadata": {},
     "output_type": "execute_result"
    }
   ],
   "source": [
    "data"
   ]
  },
  {
   "cell_type": "code",
   "execution_count": 23,
   "metadata": {},
   "outputs": [
    {
     "data": {
      "text/plain": [
       "Text(0.5, 1.0, '월별 관객 수 그래프')"
      ]
     },
     "execution_count": 23,
     "metadata": {},
     "output_type": "execute_result"
    },
    {
     "data": {
      "image/png": "[encoded data removed]",
      "text/plain": [
       "<Figure size 640x480 with 1 Axes>"
      ]
     },
     "metadata": {},
     "output_type": "display_data"
    }
   ],
   "source": [
    "sns.lineplot(data['영화 관객수']).set_title(\"월별 관객 수 그래프\")"
   ]
  },
  {
   "cell_type": "code",
   "execution_count": 24,
   "metadata": {},
   "outputs": [
    {
     "data": {
      "text/plain": [
       "Text(0.5, 1.0, '월별 도서 판매부수 그래프')"
      ]
     },
     "execution_count": 24,
     "metadata": {},
     "output_type": "execute_result"
    },
    {
     "data": {
      "image/png": "[encoded data removed]",
      "text/plain": [
       "<Figure size 640x480 with 1 Axes>"
      ]
     },
     "metadata": {},
     "output_type": "display_data"
    }
   ],
   "source": [
    "sns.lineplot(data['도서 판매부수']).set_title(\"월별 도서 판매부수 그래프\")"
   ]
  },
  {
   "cell_type": "code",
   "execution_count": 25,
   "metadata": {},
   "outputs": [
    {
     "data": {
      "text/html": [
       "<div>\n",
       "<style scoped>\n",
       "    .dataframe tbody tr th:only-of-type {\n",
       "        vertical-align: middle;\n",
       "    }\n",
       "\n",
       "    .dataframe tbody tr th {\n",
       "        vertical-align: top;\n",
       "    }\n",
       "\n",
       "    .dataframe thead th {\n",
       "        text-align: right;\n",
       "    }\n",
       "</style>\n",
       "<table border=\"1\" class=\"dataframe\">\n",
       "  <thead>\n",
       "    <tr style=\"text-align: right;\">\n",
       "      <th></th>\n",
       "      <th>영화 관객수</th>\n",
       "      <th>도서 판매부수</th>\n",
       "    </tr>\n",
       "  </thead>\n",
       "  <tbody>\n",
       "    <tr>\n",
       "      <th>영화 관객수</th>\n",
       "      <td>1.000000</td>\n",
       "      <td>-0.160556</td>\n",
       "    </tr>\n",
       "    <tr>\n",
       "      <th>도서 판매부수</th>\n",
       "      <td>-0.160556</td>\n",
       "      <td>1.000000</td>\n",
       "    </tr>\n",
       "  </tbody>\n",
       "</table>\n",
       "</div>"
      ],
      "text/plain": [
       "           영화 관객수   도서 판매부수\n",
       "영화 관객수   1.000000 -0.160556\n",
       "도서 판매부수 -0.160556  1.000000"
      ]
     },
     "execution_count": 25,
     "metadata": {},
     "output_type": "execute_result"
    }
   ],
   "source": [
    "data.corr()"
   ]
  },
  {
   "cell_type": "code",
   "execution_count": 26,
   "metadata": {},
   "outputs": [
    {
     "data": {
      "text/html": [
       "<div>\n",
       "<style scoped>\n",
       "    .dataframe tbody tr th:only-of-type {\n",
       "        vertical-align: middle;\n",
       "    }\n",
       "\n",
       "    .dataframe tbody tr th {\n",
       "        vertical-align: top;\n",
       "    }\n",
       "\n",
       "    .dataframe thead th {\n",
       "        text-align: right;\n",
       "    }\n",
       "</style>\n",
       "<table border=\"1\" class=\"dataframe\">\n",
       "  <thead>\n",
       "    <tr style=\"text-align: right;\">\n",
       "      <th></th>\n",
       "      <th>영화명</th>\n",
       "      <th>관객수</th>\n",
       "      <th>대표국적</th>\n",
       "      <th>월</th>\n",
       "    </tr>\n",
       "  </thead>\n",
       "  <tbody>\n",
       "    <tr>\n",
       "      <th>0</th>\n",
       "      <td>소방관</td>\n",
       "      <td>2655275</td>\n",
       "      <td>한국</td>\n",
       "      <td>12</td>\n",
       "    </tr>\n",
       "    <tr>\n",
       "      <th>1</th>\n",
       "      <td>모아나 2</td>\n",
       "      <td>2135726</td>\n",
       "      <td>미국</td>\n",
       "      <td>12</td>\n",
       "    </tr>\n",
       "    <tr>\n",
       "      <th>2</th>\n",
       "      <td>위키드</td>\n",
       "      <td>821627</td>\n",
       "      <td>미국</td>\n",
       "      <td>12</td>\n",
       "    </tr>\n",
       "    <tr>\n",
       "      <th>3</th>\n",
       "      <td>히든페이스</td>\n",
       "      <td>351809</td>\n",
       "      <td>한국</td>\n",
       "      <td>12</td>\n",
       "    </tr>\n",
       "    <tr>\n",
       "      <th>4</th>\n",
       "      <td>무파사: 라이온 킹</td>\n",
       "      <td>333134</td>\n",
       "      <td>미국</td>\n",
       "      <td>12</td>\n",
       "    </tr>\n",
       "    <tr>\n",
       "      <th>...</th>\n",
       "      <td>...</td>\n",
       "      <td>...</td>\n",
       "      <td>...</td>\n",
       "      <td>...</td>\n",
       "    </tr>\n",
       "    <tr>\n",
       "      <th>7394</th>\n",
       "      <td>레전더리 콘서트: 레너드 번스타인</td>\n",
       "      <td>0</td>\n",
       "      <td>독일</td>\n",
       "      <td>1</td>\n",
       "    </tr>\n",
       "    <tr>\n",
       "      <th>7395</th>\n",
       "      <td>번지점프를 하다</td>\n",
       "      <td>0</td>\n",
       "      <td>한국</td>\n",
       "      <td>1</td>\n",
       "    </tr>\n",
       "    <tr>\n",
       "      <th>7396</th>\n",
       "      <td>봄날은 간다</td>\n",
       "      <td>0</td>\n",
       "      <td>한국</td>\n",
       "      <td>1</td>\n",
       "    </tr>\n",
       "    <tr>\n",
       "      <th>7397</th>\n",
       "      <td>파이란</td>\n",
       "      <td>0</td>\n",
       "      <td>한국</td>\n",
       "      <td>1</td>\n",
       "    </tr>\n",
       "    <tr>\n",
       "      <th>7398</th>\n",
       "      <td>와니와 준하</td>\n",
       "      <td>0</td>\n",
       "      <td>한국</td>\n",
       "      <td>1</td>\n",
       "    </tr>\n",
       "  </tbody>\n",
       "</table>\n",
       "<p>7399 rows × 4 columns</p>\n",
       "</div>"
      ],
      "text/plain": [
       "                     영화명      관객수 대표국적   월\n",
       "0                    소방관  2655275   한국  12\n",
       "1                  모아나 2  2135726   미국  12\n",
       "2                    위키드   821627   미국  12\n",
       "3                  히든페이스   351809   한국  12\n",
       "4             무파사: 라이온 킹   333134   미국  12\n",
       "...                  ...      ...  ...  ..\n",
       "7394  레전더리 콘서트: 레너드 번스타인        0   독일   1\n",
       "7395            번지점프를 하다        0   한국   1\n",
       "7396              봄날은 간다        0   한국   1\n",
       "7397                 파이란        0   한국   1\n",
       "7398              와니와 준하        0   한국   1\n",
       "\n",
       "[7399 rows x 4 columns]"
      ]
     },
     "execution_count": 26,
     "metadata": {},
     "output_type": "execute_result"
    }
   ],
   "source": [
    "movie"
   ]
  },
  {
   "cell_type": "code",
   "execution_count": 27,
   "metadata": {},
   "outputs": [],
   "source": [
    "movie_sum = pd.DataFrame({'관객수':movie.groupby(by=['영화명']).sum()['관객수'].sort_values(ascending=False)})"
   ]
  },
  {
   "cell_type": "code",
   "execution_count": 28,
   "metadata": {},
   "outputs": [
    {
     "data": {
      "text/html": [
       "<div>\n",
       "<style scoped>\n",
       "    .dataframe tbody tr th:only-of-type {\n",
       "        vertical-align: middle;\n",
       "    }\n",
       "\n",
       "    .dataframe tbody tr th {\n",
       "        vertical-align: top;\n",
       "    }\n",
       "\n",
       "    .dataframe thead th {\n",
       "        text-align: right;\n",
       "    }\n",
       "</style>\n",
       "<table border=\"1\" class=\"dataframe\">\n",
       "  <thead>\n",
       "    <tr style=\"text-align: right;\">\n",
       "      <th></th>\n",
       "      <th>관객수</th>\n",
       "    </tr>\n",
       "    <tr>\n",
       "      <th>영화명</th>\n",
       "      <th></th>\n",
       "    </tr>\n",
       "  </thead>\n",
       "  <tbody>\n",
       "    <tr>\n",
       "      <th>파묘</th>\n",
       "      <td>11914680</td>\n",
       "    </tr>\n",
       "    <tr>\n",
       "      <th>범죄도시4</th>\n",
       "      <td>11502779</td>\n",
       "    </tr>\n",
       "    <tr>\n",
       "      <th>인사이드 아웃 2</th>\n",
       "      <td>8799013</td>\n",
       "    </tr>\n",
       "    <tr>\n",
       "      <th>베테랑2</th>\n",
       "      <td>7525333</td>\n",
       "    </tr>\n",
       "    <tr>\n",
       "      <th>파일럿</th>\n",
       "      <td>4718045</td>\n",
       "    </tr>\n",
       "    <tr>\n",
       "      <th>...</th>\n",
       "      <td>...</td>\n",
       "    </tr>\n",
       "    <tr>\n",
       "      <th>앙골라의 여왕, 은징가</th>\n",
       "      <td>0</td>\n",
       "    </tr>\n",
       "    <tr>\n",
       "      <th>어텀 노트</th>\n",
       "      <td>0</td>\n",
       "    </tr>\n",
       "    <tr>\n",
       "      <th>장건재 단편선</th>\n",
       "      <td>0</td>\n",
       "    </tr>\n",
       "    <tr>\n",
       "      <th>잠 못 드는 밤</th>\n",
       "      <td>0</td>\n",
       "    </tr>\n",
       "    <tr>\n",
       "      <th>5시부터 7시까지의 주희</th>\n",
       "      <td>0</td>\n",
       "    </tr>\n",
       "  </tbody>\n",
       "</table>\n",
       "<p>4217 rows × 1 columns</p>\n",
       "</div>"
      ],
      "text/plain": [
       "                    관객수\n",
       "영화명                    \n",
       "파묘             11914680\n",
       "범죄도시4          11502779\n",
       "인사이드 아웃 2       8799013\n",
       "베테랑2            7525333\n",
       "파일럿             4718045\n",
       "...                 ...\n",
       "앙골라의 여왕, 은징가          0\n",
       "어텀 노트                 0\n",
       "장건재 단편선               0\n",
       "잠 못 드는 밤              0\n",
       "5시부터 7시까지의 주희         0\n",
       "\n",
       "[4217 rows x 1 columns]"
      ]
     },
     "execution_count": 28,
     "metadata": {},
     "output_type": "execute_result"
    }
   ],
   "source": [
    "movie_sum"
   ]
  },
  {
   "cell_type": "code",
   "execution_count": 29,
   "metadata": {},
   "outputs": [
    {
     "data": {
      "text/plain": [
       "Text(0.5, 1.0, '월별 비교 그래프')"
      ]
     },
     "execution_count": 29,
     "metadata": {},
     "output_type": "execute_result"
    },
    {
     "data": {
      "image/png": "[encoded data removed]",
      "text/plain": [
       "<Figure size 640x480 with 1 Axes>"
      ]
     },
     "metadata": {},
     "output_type": "display_data"
    }
   ],
   "source": [
    "sns.lineplot(data).set_title(\"월별 비교 그래프\")"
   ]
  },
  {
   "cell_type": "markdown",
   "metadata": {},
   "source": [
    "#### 비교 결과\n",
    "도서 판매량과 영화 관람객 수가 함께 증가하거나 감소하는 경우가 많이보임(총 12회 중 서로 같이 증가 or 감소 8회, 하나만 증가하고 다른 하나는 감소 4회)<br>\n",
    "도서는 아마 계절이나 시기(연말)의 영향을 많이 받는 것 같음(특정 계절이 시작되는 시기 별로 판매량 증가-3월, 7월, 10월)<br>\n",
    "영화는 특정 영화의 개봉에 의한 영향을 많이 받음<br>\n",
    "도서와 영화는 영화와 OTT처럼 대체재가 아니라 서로 다른 별개의 풀을 가지는 것 같음"
   ]
  },
  {
   "cell_type": "markdown",
   "metadata": {},
   "source": [
    "#### 주요 요인\n",
    "<b>주요 영화 개봉일자</b><br>\n",
    "파묘-2월 22일 개봉, 관람객 수 1190만<br> \n",
    "범죄도시4-4월 24일 개봉, 관람객 수 1150만<br>\n",
    "인사이드 아웃2-6월 12일 개봉, 관람객 수 879만<br>\n",
    "파일럿-7월 31일 개봉, 관람객 수 471만<br>\n",
    "베테랑2-9월 13일 개봉, 관람객 수 752만<br>\n",
    "\n",
    "<b>도서 관련 주요 이슈</b><br>\n",
    "한강 노벨문학상수상 10월"
   ]
  },
  {
   "cell_type": "markdown",
   "metadata": {},
   "source": [
    "#### 월별 주요 사항과 예상 요인\n",
    "\n",
    "<b>3월 도서 판매량 대폭 증가</b><br>\n",
    "고3 수험생 & N수생들의 수능 대비 도서 구매로 인한 영향이 아닐까 예상\n",
    "\n",
    "<b>4월 관객과 판매 부수 모두 대폭 하락</b><br>\n",
    "4월 24일 범죄도시 개봉 이전까지 주요 영화 없음-4월 말 개봉으로 4월 관객 수에 큰 영향 미치지 못한 것 같음<br>\n",
    "3월에 도서 판매량이 매우 높은 것을 알 수 있는데 이에 따라 4월에는 도서판매량이 하락한 것으로 예상(3월에 구매한 책을 4월까지 독서 중)<br>\n",
    "본격적인 봄의 시작으로 야외 활동 증가에 따른 영향?\n",
    "\n",
    "<b>7월 관객과 판매 부수 모두 상승</b><br>\n",
    "7월에는 메가 히트를 달성한 작품은 없지만 탈주, 데드풀과 울버린, 인사이드 아웃2(6월 초 개봉으로 7월에는 관람객 수 하락세)등의 영화들이 모두 준수한 성적을 보이며 2024년 최고 성적을 달성\n",
    "\n",
    "<b>10월 도서 판매 부수 상승과 영화 관객 대폭 하락</b><br>\n",
    "당시 한강 작가의 노벨문학상 수상으로 도서 판매량이 많이 늘어난 것으로 예상<br>\n",
    "10월 주요 영화 개봉 없음<br>\n",
    "9월 17일~10월 8일 흑백요리사 공개(최근 몇 년 사이 영화관의 경쟁자로 OTT 등장. 이와 관련하여 9월부터 10월에 공개된 흑백요리사가 엄청난 인기를 끌었던 것도 영향을 미쳤을 것으로 예상)\n",
    "\n",
    "<b>12월 관객과 판매 부수 모두 상승</b><br>\n",
    "연말 기간 가족 & 연인 & 친구들 간의 활동량 증가<br>\n",
    "연말 & 연초 목표로 독서가 자주 등장하는 것이 영향을 미친 것으로 예상<br>\n",
    "영화 같은 경우는 상승하긴 했지만 그래도 여전히 낮은 상태-10월 이후 주요 영화 개봉이 없는 것이 영향이 큰 것 같음"
   ]
  },
  {
   "cell_type": "markdown",
   "metadata": {},
   "source": [
    "#### 결론\n",
    "도서 판매량과 영화 관람객 수는 서로 간에 영향을 주고 받는다기 보다는 다른 요소의 영향을 더 많이 받는 것 같음<br>\n",
    "도서 판매량과 영화 관람객 사이에 큰 관계는 발견하지 못하였음. 아마 영화와 도서 간의 영향보다는 월별에 따른 주요 활동(여행, 나들이 등)의 차이와 OTT라는 강력한 경쟁자의 영향이 더 큰 것 같음."
   ]
  }
 ],
 "metadata": {
  "kernelspec": {
   "display_name": "Python 3",
   "language": "python",
   "name": "python3"
  },
  "language_info": {
   "codemirror_mode": {
    "name": "ipython",
    "version": 3
   },
   "file_extension": ".py",
   "mimetype": "text/x-python",
   "name": "python",
   "nbconvert_exporter": "python",
   "pygments_lexer": "ipython3",
   "version": "3.11.11"
  }
 },
 "nbformat": 4,
 "nbformat_minor": 2
}
