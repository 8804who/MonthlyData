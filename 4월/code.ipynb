{
 "cells": [
  {
   "cell_type": "code",
   "execution_count": 1,
   "id": "4dacd3e3",
   "metadata": {},
   "outputs": [],
   "source": [
    "import pandas as pd\n",
    "import matplotlib.pyplot as plt\n",
    "import seaborn as sns\n",
    "\n",
    "plt.rc('font', family='NanumGothicCoding')\n",
    "sns.set(font='NanumGothicCoding')"
   ]
  },
  {
   "cell_type": "code",
   "execution_count": 2,
   "id": "e406e63e",
   "metadata": {},
   "outputs": [],
   "source": [
    "population = pd.read_csv(\"./data/경상남도_시군별 인구수 및 세대수_20240701.csv\")\n",
    "move_in = pd.read_csv(\"./data/경상남도_전입인구_20231231.csv\")\n",
    "move_out = pd.read_csv(\"./data/경상남도_전출인구_20231231.csv\")\n",
    "employment_rate = pd.read_csv(\"./data/청년고용률_20240630.csv\")\n",
    "unemployment_rate = pd.read_csv(\"./data/청년실업률_20240630.csv\")"
   ]
  },
  {
   "cell_type": "code",
   "execution_count": 3,
   "id": "f9cd53be",
   "metadata": {},
   "outputs": [
    {
     "data": {
      "text/html": [
       "<div>\n",
       "<style scoped>\n",
       "    .dataframe tbody tr th:only-of-type {\n",
       "        vertical-align: middle;\n",
       "    }\n",
       "\n",
       "    .dataframe tbody tr th {\n",
       "        vertical-align: top;\n",
       "    }\n",
       "\n",
       "    .dataframe thead th {\n",
       "        text-align: right;\n",
       "    }\n",
       "</style>\n",
       "<table border=\"1\" class=\"dataframe\">\n",
       "  <thead>\n",
       "    <tr style=\"text-align: right;\">\n",
       "      <th></th>\n",
       "      <th>연월</th>\n",
       "      <th>행정동코드</th>\n",
       "      <th>연령대</th>\n",
       "      <th>성별코드</th>\n",
       "      <th>구분명</th>\n",
       "      <th>인구수</th>\n",
       "    </tr>\n",
       "  </thead>\n",
       "  <tbody>\n",
       "    <tr>\n",
       "      <th>0</th>\n",
       "      <td>2024-01</td>\n",
       "      <td>1100000000</td>\n",
       "      <td>0</td>\n",
       "      <td>1</td>\n",
       "      <td>내국인</td>\n",
       "      <td>262001</td>\n",
       "    </tr>\n",
       "    <tr>\n",
       "      <th>1</th>\n",
       "      <td>2024-01</td>\n",
       "      <td>1100000000</td>\n",
       "      <td>10</td>\n",
       "      <td>1</td>\n",
       "      <td>내국인</td>\n",
       "      <td>374718</td>\n",
       "    </tr>\n",
       "    <tr>\n",
       "      <th>2</th>\n",
       "      <td>2024-01</td>\n",
       "      <td>1100000000</td>\n",
       "      <td>20</td>\n",
       "      <td>1</td>\n",
       "      <td>내국인</td>\n",
       "      <td>640896</td>\n",
       "    </tr>\n",
       "    <tr>\n",
       "      <th>3</th>\n",
       "      <td>2024-01</td>\n",
       "      <td>1100000000</td>\n",
       "      <td>30</td>\n",
       "      <td>1</td>\n",
       "      <td>내국인</td>\n",
       "      <td>713652</td>\n",
       "    </tr>\n",
       "    <tr>\n",
       "      <th>4</th>\n",
       "      <td>2024-01</td>\n",
       "      <td>1100000000</td>\n",
       "      <td>40</td>\n",
       "      <td>1</td>\n",
       "      <td>내국인</td>\n",
       "      <td>701808</td>\n",
       "    </tr>\n",
       "  </tbody>\n",
       "</table>\n",
       "</div>"
      ],
      "text/plain": [
       "        연월       행정동코드  연령대  성별코드  구분명     인구수\n",
       "0  2024-01  1100000000    0     1  내국인  262001\n",
       "1  2024-01  1100000000   10     1  내국인  374718\n",
       "2  2024-01  1100000000   20     1  내국인  640896\n",
       "3  2024-01  1100000000   30     1  내국인  713652\n",
       "4  2024-01  1100000000   40     1  내국인  701808"
      ]
     },
     "execution_count": 3,
     "metadata": {},
     "output_type": "execute_result"
    }
   ],
   "source": [
    "population.head()"
   ]
  },
  {
   "cell_type": "code",
   "execution_count": 4,
   "id": "218338a0",
   "metadata": {},
   "outputs": [
    {
     "data": {
      "text/html": [
       "<div>\n",
       "<style scoped>\n",
       "    .dataframe tbody tr th:only-of-type {\n",
       "        vertical-align: middle;\n",
       "    }\n",
       "\n",
       "    .dataframe tbody tr th {\n",
       "        vertical-align: top;\n",
       "    }\n",
       "\n",
       "    .dataframe thead th {\n",
       "        text-align: right;\n",
       "    }\n",
       "</style>\n",
       "<table border=\"1\" class=\"dataframe\">\n",
       "  <thead>\n",
       "    <tr style=\"text-align: right;\">\n",
       "      <th></th>\n",
       "      <th>연도</th>\n",
       "      <th>인구이동외부행정동코드</th>\n",
       "      <th>인구이동내부행정동코드</th>\n",
       "      <th>인구이동연령대코드</th>\n",
       "      <th>성별코드</th>\n",
       "      <th>사유코드</th>\n",
       "      <th>전입인구수</th>\n",
       "    </tr>\n",
       "  </thead>\n",
       "  <tbody>\n",
       "    <tr>\n",
       "      <th>0</th>\n",
       "      <td>2023</td>\n",
       "      <td>4812125000</td>\n",
       "      <td>1100000000</td>\n",
       "      <td>3</td>\n",
       "      <td>1</td>\n",
       "      <td>1</td>\n",
       "      <td>1</td>\n",
       "    </tr>\n",
       "    <tr>\n",
       "      <th>1</th>\n",
       "      <td>2023</td>\n",
       "      <td>4812125000</td>\n",
       "      <td>1100000000</td>\n",
       "      <td>5</td>\n",
       "      <td>1</td>\n",
       "      <td>1</td>\n",
       "      <td>1</td>\n",
       "    </tr>\n",
       "    <tr>\n",
       "      <th>2</th>\n",
       "      <td>2023</td>\n",
       "      <td>4812125000</td>\n",
       "      <td>1100000000</td>\n",
       "      <td>1</td>\n",
       "      <td>1</td>\n",
       "      <td>2</td>\n",
       "      <td>1</td>\n",
       "    </tr>\n",
       "    <tr>\n",
       "      <th>3</th>\n",
       "      <td>2023</td>\n",
       "      <td>4812125000</td>\n",
       "      <td>1100000000</td>\n",
       "      <td>2</td>\n",
       "      <td>1</td>\n",
       "      <td>2</td>\n",
       "      <td>5</td>\n",
       "    </tr>\n",
       "    <tr>\n",
       "      <th>4</th>\n",
       "      <td>2023</td>\n",
       "      <td>4812125000</td>\n",
       "      <td>1100000000</td>\n",
       "      <td>3</td>\n",
       "      <td>1</td>\n",
       "      <td>2</td>\n",
       "      <td>1</td>\n",
       "    </tr>\n",
       "  </tbody>\n",
       "</table>\n",
       "</div>"
      ],
      "text/plain": [
       "     연도  인구이동외부행정동코드  인구이동내부행정동코드  인구이동연령대코드  성별코드  사유코드  전입인구수\n",
       "0  2023   4812125000   1100000000          3     1     1      1\n",
       "1  2023   4812125000   1100000000          5     1     1      1\n",
       "2  2023   4812125000   1100000000          1     1     2      1\n",
       "3  2023   4812125000   1100000000          2     1     2      5\n",
       "4  2023   4812125000   1100000000          3     1     2      1"
      ]
     },
     "execution_count": 4,
     "metadata": {},
     "output_type": "execute_result"
    }
   ],
   "source": [
    "move_in.head()"
   ]
  },
  {
   "cell_type": "code",
   "execution_count": 5,
   "id": "88d56f15",
   "metadata": {},
   "outputs": [
    {
     "data": {
      "text/html": [
       "<div>\n",
       "<style scoped>\n",
       "    .dataframe tbody tr th:only-of-type {\n",
       "        vertical-align: middle;\n",
       "    }\n",
       "\n",
       "    .dataframe tbody tr th {\n",
       "        vertical-align: top;\n",
       "    }\n",
       "\n",
       "    .dataframe thead th {\n",
       "        text-align: right;\n",
       "    }\n",
       "</style>\n",
       "<table border=\"1\" class=\"dataframe\">\n",
       "  <thead>\n",
       "    <tr style=\"text-align: right;\">\n",
       "      <th></th>\n",
       "      <th>연도</th>\n",
       "      <th>인구이동내부행정동코드</th>\n",
       "      <th>인구이동외부행정동코드</th>\n",
       "      <th>인구이동연령대코드</th>\n",
       "      <th>성별코드</th>\n",
       "      <th>사유코드</th>\n",
       "      <th>전출인구수</th>\n",
       "    </tr>\n",
       "  </thead>\n",
       "  <tbody>\n",
       "    <tr>\n",
       "      <th>0</th>\n",
       "      <td>2023</td>\n",
       "      <td>1100000000</td>\n",
       "      <td>4812125000</td>\n",
       "      <td>3</td>\n",
       "      <td>1</td>\n",
       "      <td>1</td>\n",
       "      <td>4</td>\n",
       "    </tr>\n",
       "    <tr>\n",
       "      <th>1</th>\n",
       "      <td>2023</td>\n",
       "      <td>1100000000</td>\n",
       "      <td>4812125000</td>\n",
       "      <td>4</td>\n",
       "      <td>1</td>\n",
       "      <td>1</td>\n",
       "      <td>1</td>\n",
       "    </tr>\n",
       "    <tr>\n",
       "      <th>2</th>\n",
       "      <td>2023</td>\n",
       "      <td>1100000000</td>\n",
       "      <td>4812125000</td>\n",
       "      <td>6</td>\n",
       "      <td>1</td>\n",
       "      <td>1</td>\n",
       "      <td>1</td>\n",
       "    </tr>\n",
       "    <tr>\n",
       "      <th>3</th>\n",
       "      <td>2023</td>\n",
       "      <td>1100000000</td>\n",
       "      <td>4812125000</td>\n",
       "      <td>5</td>\n",
       "      <td>1</td>\n",
       "      <td>2</td>\n",
       "      <td>1</td>\n",
       "    </tr>\n",
       "    <tr>\n",
       "      <th>4</th>\n",
       "      <td>2023</td>\n",
       "      <td>1100000000</td>\n",
       "      <td>4812125000</td>\n",
       "      <td>2</td>\n",
       "      <td>1</td>\n",
       "      <td>3</td>\n",
       "      <td>2</td>\n",
       "    </tr>\n",
       "  </tbody>\n",
       "</table>\n",
       "</div>"
      ],
      "text/plain": [
       "     연도  인구이동내부행정동코드  인구이동외부행정동코드  인구이동연령대코드  성별코드  사유코드  전출인구수\n",
       "0  2023   1100000000   4812125000          3     1     1      4\n",
       "1  2023   1100000000   4812125000          4     1     1      1\n",
       "2  2023   1100000000   4812125000          6     1     1      1\n",
       "3  2023   1100000000   4812125000          5     1     2      1\n",
       "4  2023   1100000000   4812125000          2     1     3      2"
      ]
     },
     "execution_count": 5,
     "metadata": {},
     "output_type": "execute_result"
    }
   ],
   "source": [
    "move_out.head()"
   ]
  },
  {
   "cell_type": "code",
   "execution_count": 6,
   "id": "d494b485",
   "metadata": {},
   "outputs": [
    {
     "data": {
      "text/html": [
       "<div>\n",
       "<style scoped>\n",
       "    .dataframe tbody tr th:only-of-type {\n",
       "        vertical-align: middle;\n",
       "    }\n",
       "\n",
       "    .dataframe tbody tr th {\n",
       "        vertical-align: top;\n",
       "    }\n",
       "\n",
       "    .dataframe thead th {\n",
       "        text-align: right;\n",
       "    }\n",
       "</style>\n",
       "<table border=\"1\" class=\"dataframe\">\n",
       "  <thead>\n",
       "    <tr style=\"text-align: right;\">\n",
       "      <th></th>\n",
       "      <th>행정동코드</th>\n",
       "      <th>청년고용률</th>\n",
       "      <th>분기</th>\n",
       "    </tr>\n",
       "  </thead>\n",
       "  <tbody>\n",
       "    <tr>\n",
       "      <th>0</th>\n",
       "      <td>1000000000</td>\n",
       "      <td>46.1</td>\n",
       "      <td>20241</td>\n",
       "    </tr>\n",
       "    <tr>\n",
       "      <th>1</th>\n",
       "      <td>1100000000</td>\n",
       "      <td>53.3</td>\n",
       "      <td>20241</td>\n",
       "    </tr>\n",
       "    <tr>\n",
       "      <th>2</th>\n",
       "      <td>2600000000</td>\n",
       "      <td>45.2</td>\n",
       "      <td>20241</td>\n",
       "    </tr>\n",
       "    <tr>\n",
       "      <th>3</th>\n",
       "      <td>2700000000</td>\n",
       "      <td>38.2</td>\n",
       "      <td>20241</td>\n",
       "    </tr>\n",
       "    <tr>\n",
       "      <th>4</th>\n",
       "      <td>2800000000</td>\n",
       "      <td>45.2</td>\n",
       "      <td>20241</td>\n",
       "    </tr>\n",
       "  </tbody>\n",
       "</table>\n",
       "</div>"
      ],
      "text/plain": [
       "        행정동코드  청년고용률     분기\n",
       "0  1000000000   46.1  20241\n",
       "1  1100000000   53.3  20241\n",
       "2  2600000000   45.2  20241\n",
       "3  2700000000   38.2  20241\n",
       "4  2800000000   45.2  20241"
      ]
     },
     "execution_count": 6,
     "metadata": {},
     "output_type": "execute_result"
    }
   ],
   "source": [
    "employment_rate.head()"
   ]
  },
  {
   "cell_type": "code",
   "execution_count": 7,
   "id": "e94f0c3d",
   "metadata": {},
   "outputs": [
    {
     "data": {
      "text/html": [
       "<div>\n",
       "<style scoped>\n",
       "    .dataframe tbody tr th:only-of-type {\n",
       "        vertical-align: middle;\n",
       "    }\n",
       "\n",
       "    .dataframe tbody tr th {\n",
       "        vertical-align: top;\n",
       "    }\n",
       "\n",
       "    .dataframe thead th {\n",
       "        text-align: right;\n",
       "    }\n",
       "</style>\n",
       "<table border=\"1\" class=\"dataframe\">\n",
       "  <thead>\n",
       "    <tr style=\"text-align: right;\">\n",
       "      <th></th>\n",
       "      <th>행정동코드</th>\n",
       "      <th>청년실업률</th>\n",
       "      <th>분기</th>\n",
       "    </tr>\n",
       "  </thead>\n",
       "  <tbody>\n",
       "    <tr>\n",
       "      <th>0</th>\n",
       "      <td>1000000000</td>\n",
       "      <td>6.4</td>\n",
       "      <td>20241</td>\n",
       "    </tr>\n",
       "    <tr>\n",
       "      <th>1</th>\n",
       "      <td>1100000000</td>\n",
       "      <td>4.1</td>\n",
       "      <td>20241</td>\n",
       "    </tr>\n",
       "    <tr>\n",
       "      <th>2</th>\n",
       "      <td>2600000000</td>\n",
       "      <td>8.1</td>\n",
       "      <td>20241</td>\n",
       "    </tr>\n",
       "    <tr>\n",
       "      <th>3</th>\n",
       "      <td>2700000000</td>\n",
       "      <td>10.4</td>\n",
       "      <td>20241</td>\n",
       "    </tr>\n",
       "    <tr>\n",
       "      <th>4</th>\n",
       "      <td>2800000000</td>\n",
       "      <td>9.7</td>\n",
       "      <td>20241</td>\n",
       "    </tr>\n",
       "  </tbody>\n",
       "</table>\n",
       "</div>"
      ],
      "text/plain": [
       "        행정동코드  청년실업률     분기\n",
       "0  1000000000    6.4  20241\n",
       "1  1100000000    4.1  20241\n",
       "2  2600000000    8.1  20241\n",
       "3  2700000000   10.4  20241\n",
       "4  2800000000    9.7  20241"
      ]
     },
     "execution_count": 7,
     "metadata": {},
     "output_type": "execute_result"
    }
   ],
   "source": [
    "unemployment_rate.head()"
   ]
  },
  {
   "cell_type": "code",
   "execution_count": 8,
   "id": "0fa2c95f",
   "metadata": {},
   "outputs": [],
   "source": [
    "age_code_dict = {\n",
    "    1:\t10,\n",
    "    2:\t20,\n",
    "    3:\t30,\n",
    "    4:\t40,\n",
    "    5:\t50,\n",
    "    6:\t60\n",
    "}\n",
    "\n",
    "reason_code_dict = {\n",
    "    1: \"직업\",\n",
    "    2: \"가족\",\n",
    "    3: \"주택\",\n",
    "    4: \"교육\",\n",
    "    5: \"주거환경\",\n",
    "    6: \"자연환경\",\n",
    "    9: \"기타\"\n",
    "}\n",
    "\n",
    "area_code_dict = {\n",
    "    1000000000: \"전국\",\n",
    "    1100000000: \"서울특별시\",\n",
    "    2600000000: \"부산광역시\",\n",
    "    2700000000: \"대구광역시\",\n",
    "    2800000000: \"인천광역시\",\n",
    "    2900000000: \"광주광역시\",\n",
    "    3000000000: \"대전광역시\",\n",
    "    3100000000: \"울산광역시\",\n",
    "    3600000000: \"세종특별자치시\",\n",
    "    4100000000: \"경기도\",\n",
    "    4200000000:\t\"강원도\",\n",
    "    4300000000: \"충청북도\",\n",
    "    4400000000: \"충청남도\",\n",
    "    4500000000: \"전라북도\",\n",
    "    4600000000: \"전라남도\",\n",
    "    4700000000: \"경상북도\",\n",
    "    4800000000: \"경상남도\",\n",
    "    5000000000: \"제주특별자치도\",\n",
    "    5100000000: \"강원특별자치도\",\n",
    "    5200000000: \"전북특별자치도\"\n",
    "}"
   ]
  },
  {
   "cell_type": "code",
   "execution_count": 9,
   "id": "5763cb79",
   "metadata": {},
   "outputs": [],
   "source": [
    "def trim_area_code(area_code):\n",
    "    return (area_code//100000000)*100000000\n",
    "\n",
    "def get_age(age_code):\n",
    "    return age_code_dict[age_code]\n",
    "\n",
    "def get_area(area_code):\n",
    "    return area_code_dict[trim_area_code(area_code)]\n",
    "\n",
    "def get_gender(gender_code):\n",
    "    return \"M\" if gender_code == 1 else \"F\"\n",
    "\n",
    "def get_reason(reason_code):\n",
    "    return reason_code_dict[reason_code]"
   ]
  },
  {
   "cell_type": "code",
   "execution_count": 10,
   "id": "f66ee604",
   "metadata": {},
   "outputs": [
    {
     "data": {
      "text/html": [
       "<div>\n",
       "<style scoped>\n",
       "    .dataframe tbody tr th:only-of-type {\n",
       "        vertical-align: middle;\n",
       "    }\n",
       "\n",
       "    .dataframe tbody tr th {\n",
       "        vertical-align: top;\n",
       "    }\n",
       "\n",
       "    .dataframe thead th {\n",
       "        text-align: right;\n",
       "    }\n",
       "</style>\n",
       "<table border=\"1\" class=\"dataframe\">\n",
       "  <thead>\n",
       "    <tr style=\"text-align: right;\">\n",
       "      <th></th>\n",
       "      <th>연월</th>\n",
       "      <th>연령대</th>\n",
       "      <th>구분명</th>\n",
       "      <th>인구수</th>\n",
       "      <th>행정동</th>\n",
       "      <th>성별</th>\n",
       "    </tr>\n",
       "  </thead>\n",
       "  <tbody>\n",
       "    <tr>\n",
       "      <th>0</th>\n",
       "      <td>2024-01</td>\n",
       "      <td>0</td>\n",
       "      <td>내국인</td>\n",
       "      <td>262001</td>\n",
       "      <td>서울특별시</td>\n",
       "      <td>M</td>\n",
       "    </tr>\n",
       "    <tr>\n",
       "      <th>1</th>\n",
       "      <td>2024-01</td>\n",
       "      <td>10</td>\n",
       "      <td>내국인</td>\n",
       "      <td>374718</td>\n",
       "      <td>서울특별시</td>\n",
       "      <td>M</td>\n",
       "    </tr>\n",
       "    <tr>\n",
       "      <th>2</th>\n",
       "      <td>2024-01</td>\n",
       "      <td>20</td>\n",
       "      <td>내국인</td>\n",
       "      <td>640896</td>\n",
       "      <td>서울특별시</td>\n",
       "      <td>M</td>\n",
       "    </tr>\n",
       "    <tr>\n",
       "      <th>3</th>\n",
       "      <td>2024-01</td>\n",
       "      <td>30</td>\n",
       "      <td>내국인</td>\n",
       "      <td>713652</td>\n",
       "      <td>서울특별시</td>\n",
       "      <td>M</td>\n",
       "    </tr>\n",
       "    <tr>\n",
       "      <th>4</th>\n",
       "      <td>2024-01</td>\n",
       "      <td>40</td>\n",
       "      <td>내국인</td>\n",
       "      <td>701808</td>\n",
       "      <td>서울특별시</td>\n",
       "      <td>M</td>\n",
       "    </tr>\n",
       "  </tbody>\n",
       "</table>\n",
       "</div>"
      ],
      "text/plain": [
       "        연월  연령대  구분명     인구수    행정동 성별\n",
       "0  2024-01    0  내국인  262001  서울특별시  M\n",
       "1  2024-01   10  내국인  374718  서울특별시  M\n",
       "2  2024-01   20  내국인  640896  서울특별시  M\n",
       "3  2024-01   30  내국인  713652  서울특별시  M\n",
       "4  2024-01   40  내국인  701808  서울특별시  M"
      ]
     },
     "execution_count": 10,
     "metadata": {},
     "output_type": "execute_result"
    }
   ],
   "source": [
    "population['행정동'] = population['행정동코드'].apply(get_area)\n",
    "population['성별'] = population['성별코드'].apply(get_gender)\n",
    "population = population.drop(['행정동코드', '성별코드'], axis=1)\n",
    "population.head()"
   ]
  },
  {
   "cell_type": "code",
   "execution_count": 11,
   "id": "ac7688f4",
   "metadata": {},
   "outputs": [
    {
     "data": {
      "text/html": [
       "<div>\n",
       "<style scoped>\n",
       "    .dataframe tbody tr th:only-of-type {\n",
       "        vertical-align: middle;\n",
       "    }\n",
       "\n",
       "    .dataframe tbody tr th {\n",
       "        vertical-align: top;\n",
       "    }\n",
       "\n",
       "    .dataframe thead th {\n",
       "        text-align: right;\n",
       "    }\n",
       "</style>\n",
       "<table border=\"1\" class=\"dataframe\">\n",
       "  <thead>\n",
       "    <tr style=\"text-align: right;\">\n",
       "      <th></th>\n",
       "      <th>연도</th>\n",
       "      <th>전입인구수</th>\n",
       "      <th>기존 지역</th>\n",
       "      <th>이주 지역</th>\n",
       "      <th>연령대</th>\n",
       "      <th>성별</th>\n",
       "      <th>사유</th>\n",
       "    </tr>\n",
       "  </thead>\n",
       "  <tbody>\n",
       "    <tr>\n",
       "      <th>0</th>\n",
       "      <td>2023</td>\n",
       "      <td>1</td>\n",
       "      <td>서울특별시</td>\n",
       "      <td>경상남도</td>\n",
       "      <td>30</td>\n",
       "      <td>M</td>\n",
       "      <td>직업</td>\n",
       "    </tr>\n",
       "    <tr>\n",
       "      <th>1</th>\n",
       "      <td>2023</td>\n",
       "      <td>1</td>\n",
       "      <td>서울특별시</td>\n",
       "      <td>경상남도</td>\n",
       "      <td>50</td>\n",
       "      <td>M</td>\n",
       "      <td>직업</td>\n",
       "    </tr>\n",
       "    <tr>\n",
       "      <th>2</th>\n",
       "      <td>2023</td>\n",
       "      <td>1</td>\n",
       "      <td>서울특별시</td>\n",
       "      <td>경상남도</td>\n",
       "      <td>10</td>\n",
       "      <td>M</td>\n",
       "      <td>가족</td>\n",
       "    </tr>\n",
       "    <tr>\n",
       "      <th>3</th>\n",
       "      <td>2023</td>\n",
       "      <td>5</td>\n",
       "      <td>서울특별시</td>\n",
       "      <td>경상남도</td>\n",
       "      <td>20</td>\n",
       "      <td>M</td>\n",
       "      <td>가족</td>\n",
       "    </tr>\n",
       "    <tr>\n",
       "      <th>4</th>\n",
       "      <td>2023</td>\n",
       "      <td>1</td>\n",
       "      <td>서울특별시</td>\n",
       "      <td>경상남도</td>\n",
       "      <td>30</td>\n",
       "      <td>M</td>\n",
       "      <td>가족</td>\n",
       "    </tr>\n",
       "  </tbody>\n",
       "</table>\n",
       "</div>"
      ],
      "text/plain": [
       "     연도  전입인구수  기존 지역 이주 지역  연령대 성별  사유\n",
       "0  2023      1  서울특별시  경상남도   30  M  직업\n",
       "1  2023      1  서울특별시  경상남도   50  M  직업\n",
       "2  2023      1  서울특별시  경상남도   10  M  가족\n",
       "3  2023      5  서울특별시  경상남도   20  M  가족\n",
       "4  2023      1  서울특별시  경상남도   30  M  가족"
      ]
     },
     "execution_count": 11,
     "metadata": {},
     "output_type": "execute_result"
    }
   ],
   "source": [
    "move_in['기존 지역'] = move_in['인구이동내부행정동코드'].apply(get_area)\n",
    "move_in['이주 지역'] = move_in['인구이동외부행정동코드'].apply(get_area)\n",
    "move_in['연령대'] = move_in['인구이동연령대코드'].apply(get_age)\n",
    "move_in['성별'] = move_in['성별코드'].apply(get_gender)\n",
    "move_in['사유'] = move_in['사유코드'].apply(get_reason)\n",
    "move_in = move_in.drop(['인구이동외부행정동코드', '인구이동내부행정동코드', '인구이동연령대코드', '성별코드', '사유코드'], axis=1)\n",
    "move_in.head()"
   ]
  },
  {
   "cell_type": "code",
   "execution_count": 12,
   "id": "4318d503",
   "metadata": {},
   "outputs": [
    {
     "data": {
      "text/html": [
       "<div>\n",
       "<style scoped>\n",
       "    .dataframe tbody tr th:only-of-type {\n",
       "        vertical-align: middle;\n",
       "    }\n",
       "\n",
       "    .dataframe tbody tr th {\n",
       "        vertical-align: top;\n",
       "    }\n",
       "\n",
       "    .dataframe thead th {\n",
       "        text-align: right;\n",
       "    }\n",
       "</style>\n",
       "<table border=\"1\" class=\"dataframe\">\n",
       "  <thead>\n",
       "    <tr style=\"text-align: right;\">\n",
       "      <th></th>\n",
       "      <th>연도</th>\n",
       "      <th>전출인구수</th>\n",
       "      <th>기존 지역</th>\n",
       "      <th>이주 지역</th>\n",
       "      <th>연령대</th>\n",
       "      <th>성별</th>\n",
       "      <th>사유</th>\n",
       "    </tr>\n",
       "  </thead>\n",
       "  <tbody>\n",
       "    <tr>\n",
       "      <th>0</th>\n",
       "      <td>2023</td>\n",
       "      <td>4</td>\n",
       "      <td>경상남도</td>\n",
       "      <td>서울특별시</td>\n",
       "      <td>30</td>\n",
       "      <td>M</td>\n",
       "      <td>직업</td>\n",
       "    </tr>\n",
       "    <tr>\n",
       "      <th>1</th>\n",
       "      <td>2023</td>\n",
       "      <td>1</td>\n",
       "      <td>경상남도</td>\n",
       "      <td>서울특별시</td>\n",
       "      <td>40</td>\n",
       "      <td>M</td>\n",
       "      <td>직업</td>\n",
       "    </tr>\n",
       "    <tr>\n",
       "      <th>2</th>\n",
       "      <td>2023</td>\n",
       "      <td>1</td>\n",
       "      <td>경상남도</td>\n",
       "      <td>서울특별시</td>\n",
       "      <td>60</td>\n",
       "      <td>M</td>\n",
       "      <td>직업</td>\n",
       "    </tr>\n",
       "    <tr>\n",
       "      <th>3</th>\n",
       "      <td>2023</td>\n",
       "      <td>1</td>\n",
       "      <td>경상남도</td>\n",
       "      <td>서울특별시</td>\n",
       "      <td>50</td>\n",
       "      <td>M</td>\n",
       "      <td>가족</td>\n",
       "    </tr>\n",
       "    <tr>\n",
       "      <th>4</th>\n",
       "      <td>2023</td>\n",
       "      <td>2</td>\n",
       "      <td>경상남도</td>\n",
       "      <td>서울특별시</td>\n",
       "      <td>20</td>\n",
       "      <td>M</td>\n",
       "      <td>주택</td>\n",
       "    </tr>\n",
       "  </tbody>\n",
       "</table>\n",
       "</div>"
      ],
      "text/plain": [
       "     연도  전출인구수 기존 지역  이주 지역  연령대 성별  사유\n",
       "0  2023      4  경상남도  서울특별시   30  M  직업\n",
       "1  2023      1  경상남도  서울특별시   40  M  직업\n",
       "2  2023      1  경상남도  서울특별시   60  M  직업\n",
       "3  2023      1  경상남도  서울특별시   50  M  가족\n",
       "4  2023      2  경상남도  서울특별시   20  M  주택"
      ]
     },
     "execution_count": 12,
     "metadata": {},
     "output_type": "execute_result"
    }
   ],
   "source": [
    "move_out['기존 지역'] = move_out['인구이동외부행정동코드'].apply(get_area)\n",
    "move_out['이주 지역'] = move_out['인구이동내부행정동코드'].apply(get_area)\n",
    "move_out['연령대'] = move_out['인구이동연령대코드'].apply(get_age)\n",
    "move_out['성별'] = move_out['성별코드'].apply(get_gender)\n",
    "move_out['사유'] = move_out['사유코드'].apply(get_reason)\n",
    "move_out = move_out.drop(['인구이동외부행정동코드', '인구이동내부행정동코드', '인구이동연령대코드', '성별코드', '사유코드'], axis=1)\n",
    "move_out.head()"
   ]
  },
  {
   "cell_type": "code",
   "execution_count": 13,
   "id": "77fdc8bf",
   "metadata": {},
   "outputs": [
    {
     "data": {
      "text/html": [
       "<div>\n",
       "<style scoped>\n",
       "    .dataframe tbody tr th:only-of-type {\n",
       "        vertical-align: middle;\n",
       "    }\n",
       "\n",
       "    .dataframe tbody tr th {\n",
       "        vertical-align: top;\n",
       "    }\n",
       "\n",
       "    .dataframe thead th {\n",
       "        text-align: right;\n",
       "    }\n",
       "</style>\n",
       "<table border=\"1\" class=\"dataframe\">\n",
       "  <thead>\n",
       "    <tr style=\"text-align: right;\">\n",
       "      <th></th>\n",
       "      <th>청년고용률</th>\n",
       "      <th>분기</th>\n",
       "      <th>지역</th>\n",
       "    </tr>\n",
       "  </thead>\n",
       "  <tbody>\n",
       "    <tr>\n",
       "      <th>0</th>\n",
       "      <td>46.1</td>\n",
       "      <td>20241</td>\n",
       "      <td>전국</td>\n",
       "    </tr>\n",
       "    <tr>\n",
       "      <th>1</th>\n",
       "      <td>53.3</td>\n",
       "      <td>20241</td>\n",
       "      <td>서울특별시</td>\n",
       "    </tr>\n",
       "    <tr>\n",
       "      <th>2</th>\n",
       "      <td>45.2</td>\n",
       "      <td>20241</td>\n",
       "      <td>부산광역시</td>\n",
       "    </tr>\n",
       "    <tr>\n",
       "      <th>3</th>\n",
       "      <td>38.2</td>\n",
       "      <td>20241</td>\n",
       "      <td>대구광역시</td>\n",
       "    </tr>\n",
       "    <tr>\n",
       "      <th>4</th>\n",
       "      <td>45.2</td>\n",
       "      <td>20241</td>\n",
       "      <td>인천광역시</td>\n",
       "    </tr>\n",
       "  </tbody>\n",
       "</table>\n",
       "</div>"
      ],
      "text/plain": [
       "   청년고용률     분기     지역\n",
       "0   46.1  20241     전국\n",
       "1   53.3  20241  서울특별시\n",
       "2   45.2  20241  부산광역시\n",
       "3   38.2  20241  대구광역시\n",
       "4   45.2  20241  인천광역시"
      ]
     },
     "execution_count": 13,
     "metadata": {},
     "output_type": "execute_result"
    }
   ],
   "source": [
    "employment_rate['지역'] = employment_rate['행정동코드'].apply(get_area)\n",
    "employment_rate = employment_rate.drop('행정동코드',axis=1)\n",
    "employment_rate.head()"
   ]
  },
  {
   "cell_type": "code",
   "execution_count": 39,
   "id": "c6c986f9",
   "metadata": {},
   "outputs": [
    {
     "data": {
      "text/plain": [
       "array(['전국', '서울특별시', '부산광역시', '대구광역시', '인천광역시', '광주광역시', '대전광역시',\n",
       "       '울산광역시', '세종특별자치시', '경기도', '강원도', '충청북도', '충청남도', '전라북도', '전라남도',\n",
       "       '경상북도', '경상남도', '제주특별자치도'], dtype=object)"
      ]
     },
     "execution_count": 39,
     "metadata": {},
     "output_type": "execute_result"
    }
   ],
   "source": [
    "employment_rate['지역'].unique()"
   ]
  },
  {
   "cell_type": "code",
   "execution_count": 14,
   "id": "c6f37a7f",
   "metadata": {},
   "outputs": [
    {
     "data": {
      "text/html": [
       "<div>\n",
       "<style scoped>\n",
       "    .dataframe tbody tr th:only-of-type {\n",
       "        vertical-align: middle;\n",
       "    }\n",
       "\n",
       "    .dataframe tbody tr th {\n",
       "        vertical-align: top;\n",
       "    }\n",
       "\n",
       "    .dataframe thead th {\n",
       "        text-align: right;\n",
       "    }\n",
       "</style>\n",
       "<table border=\"1\" class=\"dataframe\">\n",
       "  <thead>\n",
       "    <tr style=\"text-align: right;\">\n",
       "      <th></th>\n",
       "      <th>청년실업률</th>\n",
       "      <th>분기</th>\n",
       "      <th>지역</th>\n",
       "    </tr>\n",
       "  </thead>\n",
       "  <tbody>\n",
       "    <tr>\n",
       "      <th>0</th>\n",
       "      <td>6.4</td>\n",
       "      <td>20241</td>\n",
       "      <td>전국</td>\n",
       "    </tr>\n",
       "    <tr>\n",
       "      <th>1</th>\n",
       "      <td>4.1</td>\n",
       "      <td>20241</td>\n",
       "      <td>서울특별시</td>\n",
       "    </tr>\n",
       "    <tr>\n",
       "      <th>2</th>\n",
       "      <td>8.1</td>\n",
       "      <td>20241</td>\n",
       "      <td>부산광역시</td>\n",
       "    </tr>\n",
       "    <tr>\n",
       "      <th>3</th>\n",
       "      <td>10.4</td>\n",
       "      <td>20241</td>\n",
       "      <td>대구광역시</td>\n",
       "    </tr>\n",
       "    <tr>\n",
       "      <th>4</th>\n",
       "      <td>9.7</td>\n",
       "      <td>20241</td>\n",
       "      <td>인천광역시</td>\n",
       "    </tr>\n",
       "  </tbody>\n",
       "</table>\n",
       "</div>"
      ],
      "text/plain": [
       "   청년실업률     분기     지역\n",
       "0    6.4  20241     전국\n",
       "1    4.1  20241  서울특별시\n",
       "2    8.1  20241  부산광역시\n",
       "3   10.4  20241  대구광역시\n",
       "4    9.7  20241  인천광역시"
      ]
     },
     "execution_count": 14,
     "metadata": {},
     "output_type": "execute_result"
    }
   ],
   "source": [
    "unemployment_rate['지역'] = unemployment_rate['행정동코드'].apply(get_area)\n",
    "unemployment_rate = unemployment_rate.drop('행정동코드',axis=1)\n",
    "unemployment_rate.head()"
   ]
  },
  {
   "cell_type": "code",
   "execution_count": 107,
   "id": "2a41c48c",
   "metadata": {},
   "outputs": [
    {
     "data": {
      "text/plain": [
       "Text(0.5, 1.0, '기간 별 경상남도 20대 인구수')"
      ]
     },
     "execution_count": 107,
     "metadata": {},
     "output_type": "execute_result"
    },
    {
     "data": {
      "image/png": "[encoded data removed]",
      "text/plain": [
       "<Figure size 640x480 with 1 Axes>"
      ]
     },
     "metadata": {},
     "output_type": "display_data"
    }
   ],
   "source": [
    "plt.bar(['2024-01','2024-02','2024-03','2024-04','2024-05','2024-06'], [population[(population['연령대'] == 20) & (population['행정동'] == \"경상남도\") & (population['연월'] == month)]['인구수'].sum() for month in ['2024-01','2024-02','2024-03','2024-04','2024-05','2024-06']])\n",
    "plt.title(\"기간 별 경상남도 20대 인구수\")"
   ]
  },
  {
   "cell_type": "code",
   "execution_count": 108,
   "id": "9d298328",
   "metadata": {},
   "outputs": [
    {
     "data": {
      "text/plain": [
       "Text(0.5, 1.0, '기간 별 경상남도 20대 인구수')"
      ]
     },
     "execution_count": 108,
     "metadata": {},
     "output_type": "execute_result"
    },
    {
     "data": {
      "image/png": "[encoded data removed]",
      "text/plain": [
       "<Figure size 640x480 with 1 Axes>"
      ]
     },
     "metadata": {},
     "output_type": "display_data"
    }
   ],
   "source": [
    "plt.bar(['2024-01','2024-02','2024-03','2024-04','2024-05','2024-06'], [population[(population['연령대'] == 20) & (population['행정동'] == \"서울특별시\") & (population['연월'] == month)]['인구수'].sum() for month in ['2024-01','2024-02','2024-03','2024-04','2024-05','2024-06']])\n",
    "plt.title(\"기간 별 경상남도 20대 인구수\")"
   ]
  },
  {
   "cell_type": "code",
   "execution_count": 84,
   "id": "0c58a911",
   "metadata": {},
   "outputs": [
    {
     "data": {
      "text/plain": [
       "Text(0.5, 1.0, '경상남도 20대 전출 사유')"
      ]
     },
     "execution_count": 84,
     "metadata": {},
     "output_type": "execute_result"
    },
    {
     "data": {
      "image/png": "[encoded data removed]",
      "text/plain": [
       "<Figure size 640x480 with 1 Axes>"
      ]
     },
     "metadata": {},
     "output_type": "display_data"
    }
   ],
   "source": [
    "sns.barplot(move_out[move_out['연령대'] == 20]['사유'].value_counts()).set_title(\"경상남도 20대 전출 사유\")"
   ]
  },
  {
   "cell_type": "code",
   "execution_count": 83,
   "id": "970b259b",
   "metadata": {},
   "outputs": [
    {
     "data": {
      "text/plain": [
       "Text(0.5, 1.0, '경상남도 20대 주요 이주 지역')"
      ]
     },
     "execution_count": 83,
     "metadata": {},
     "output_type": "execute_result"
    },
    {
     "data": {
      "image/png": "[encoded data removed]",
      "text/plain": [
       "<Figure size 640x480 with 1 Axes>"
      ]
     },
     "metadata": {},
     "output_type": "display_data"
    }
   ],
   "source": [
    "sns.barplot(move_out[move_out['연령대'] == 20]['이주 지역'].value_counts()[:5]).set_title(\"경상남도 20대 주요 이주 지역\")"
   ]
  },
  {
   "cell_type": "code",
   "execution_count": 94,
   "id": "4f3c41eb",
   "metadata": {},
   "outputs": [
    {
     "data": {
      "text/plain": [
       "Text(0.5, 1.0, '지역 별 청년 고용률')"
      ]
     },
     "execution_count": 94,
     "metadata": {},
     "output_type": "execute_result"
    },
    {
     "data": {
      "image/png": "[encoded data removed]",
      "text/plain": [
       "<Figure size 640x480 with 1 Axes>"
      ]
     },
     "metadata": {},
     "output_type": "display_data"
    }
   ],
   "source": [
    "plt.bar([\"전국\", \"서울특별시\", \"경상남도\"], employment_rate[(employment_rate['분기']==20242) & (employment_rate['지역'].isin([\"전국\",\"서울특별시\",\"경상남도\"]))]['청년고용률'])\n",
    "plt.title(\"지역 별 청년 고용률\")"
   ]
  },
  {
   "cell_type": "code",
   "execution_count": 95,
   "id": "d79a9688",
   "metadata": {},
   "outputs": [
    {
     "data": {
      "text/plain": [
       "Text(0.5, 1.0, '지역 별 청년 실업률')"
      ]
     },
     "execution_count": 95,
     "metadata": {},
     "output_type": "execute_result"
    },
    {
     "data": {
      "image/png": "[encoded data removed]",
      "text/plain": [
       "<Figure size 640x480 with 1 Axes>"
      ]
     },
     "metadata": {},
     "output_type": "display_data"
    }
   ],
   "source": [
    "plt.bar([\"전국\", \"서울특별시\", \"경상남도\"], unemployment_rate[(employment_rate['분기']==20242) & (unemployment_rate['지역'].isin([\"전국\",\"서울특별시\",\"경상남도\"]))]['청년실업률'])\n",
    "plt.title(\"지역 별 청년 실업률\")"
   ]
  },
  {
   "cell_type": "code",
   "execution_count": null,
   "id": "a5b6522a",
   "metadata": {},
   "outputs": [],
   "source": []
  }
 ],
 "metadata": {
  "kernelspec": {
   "display_name": "Python 3",
   "language": "python",
   "name": "python3"
  },
  "language_info": {
   "codemirror_mode": {
    "name": "ipython",
    "version": 3
   },
   "file_extension": ".py",
   "mimetype": "text/x-python",
   "name": "python",
   "nbconvert_exporter": "python",
   "pygments_lexer": "ipython3",
   "version": "3.11.11"
  }
 },
 "nbformat": 4,
 "nbformat_minor": 5
}
